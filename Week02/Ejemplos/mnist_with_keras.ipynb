{
  "nbformat": 4,
  "nbformat_minor": 0,
  "metadata": {
    "kernelspec": {
      "display_name": "Python 3",
      "language": "python",
      "name": "python3"
    },
    "language_info": {
      "codemirror_mode": {
        "name": "ipython",
        "version": 3
      },
      "file_extension": ".py",
      "mimetype": "text/x-python",
      "name": "python",
      "nbconvert_exporter": "python",
      "pygments_lexer": "ipython3",
      "version": "3.6.2"
    },
    "colab": {
      "name": "mnist_with_keras.ipynb",
      "provenance": [],
      "collapsed_sections": []
    }
  },
  "cells": [
    {
      "cell_type": "markdown",
      "metadata": {
        "id": "QRsFPEZFQ439",
        "colab_type": "text"
      },
      "source": [
        "# Conectando Colab con drive"
      ]
    },
    {
      "cell_type": "code",
      "metadata": {
        "id": "UlGD8a_fQ7wP",
        "colab_type": "code",
        "colab": {
          "base_uri": "https://localhost:8080/",
          "height": 34
        },
        "outputId": "feca81ed-13c3-4760-fea5-90f5624ee77b"
      },
      "source": [
        "from google.colab import drive\n",
        "drive.mount('/content/drive')"
      ],
      "execution_count": 54,
      "outputs": [
        {
          "output_type": "stream",
          "text": [
            "Drive already mounted at /content/drive; to attempt to forcibly remount, call drive.mount(\"/content/drive\", force_remount=True).\n"
          ],
          "name": "stdout"
        }
      ]
    },
    {
      "cell_type": "code",
      "metadata": {
        "id": "-D38BflaRGv4",
        "colab_type": "code",
        "colab": {}
      },
      "source": [
        "import os\n",
        "os.chdir('/content/drive/My Drive/Programacion/Python/Machine Learning avanzado/1.Introduccion al Deep Learning/Semana2')"
      ],
      "execution_count": 55,
      "outputs": []
    },
    {
      "cell_type": "markdown",
      "metadata": {
        "id": "k5lrf1ibK4Tc",
        "colab_type": "text"
      },
      "source": [
        "# MNIST digits classification with Keras\n",
        "\n",
        "We don't expect you to code anything here because you've already solved it with TensorFlow.\n",
        "\n",
        "But you can appreciate how simpler it is with Keras.\n",
        "\n",
        "We'll be happy if you play around with the architecture though, there're some tips at the end."
      ]
    },
    {
      "cell_type": "markdown",
      "metadata": {
        "id": "l764oiZOK4Tg",
        "colab_type": "text"
      },
      "source": [
        "<img src=\"images/mnist_sample.png\" style=\"width:30%\">"
      ]
    },
    {
      "cell_type": "code",
      "metadata": {
        "id": "KqDifjWUK4Tj",
        "colab_type": "code",
        "colab": {
          "base_uri": "https://localhost:8080/",
          "height": 51
        },
        "outputId": "e69ce7a6-db9c-4e6a-c1b8-632a56dd6f5a"
      },
      "source": [
        "import numpy as np\n",
        "from sklearn.metrics import accuracy_score\n",
        "from matplotlib import pyplot as plt\n",
        "%matplotlib inline\n",
        "import tensorflow as tf\n",
        "print(\"We're using TF\", tf.__version__)\n",
        "import keras\n",
        "print(\"We are using Keras\", keras.__version__)\n",
        "\n",
        "import sys\n",
        "sys.path.append(\"/content/drive/My Drive/Programacion/Python/Machine Learning avanzado/1.Introduccion al Deep Learning/Semana2\")\n",
        "import keras_utils\n",
        "#from keras_utils import reset_tf_session"
      ],
      "execution_count": 56,
      "outputs": [
        {
          "output_type": "stream",
          "text": [
            "We're using TF 2.3.0\n",
            "We are using Keras 2.4.3\n"
          ],
          "name": "stdout"
        }
      ]
    },
    {
      "cell_type": "markdown",
      "metadata": {
        "id": "B5zC1pcEK4Tz",
        "colab_type": "text"
      },
      "source": [
        "# Look at the data\n",
        "\n",
        "In this task we have 50000 28x28 images of digits from 0 to 9.\n",
        "We will train a classifier on this data."
      ]
    },
    {
      "cell_type": "code",
      "metadata": {
        "id": "OWlvkGliK4T5",
        "colab_type": "code",
        "colab": {}
      },
      "source": [
        "import preprocessed_mnist\n",
        "X_train, y_train, X_val, y_val, X_test, y_test = preprocessed_mnist.load_dataset_from_file()"
      ],
      "execution_count": 3,
      "outputs": []
    },
    {
      "cell_type": "code",
      "metadata": {
        "id": "wihTe-txK4UI",
        "colab_type": "code",
        "colab": {
          "base_uri": "https://localhost:8080/",
          "height": 683
        },
        "outputId": "c174f1f2-cdff-4582-f88e-ffdea5e39b7b"
      },
      "source": [
        "# X contains rgb values divided by 255\n",
        "print(\"X_train [shape %s] sample patch:\\n\" % (str(X_train.shape)), X_train[1, 15:20, 5:10])\n",
        "print(\"A closeup of a sample patch:\")\n",
        "plt.imshow(X_train[1, 15:20, 5:10], cmap=\"Greys\")\n",
        "plt.show()\n",
        "print(\"And the whole sample:\")\n",
        "plt.imshow(X_train[1], cmap=\"Greys\")\n",
        "plt.show()\n",
        "print(\"y_train [shape %s] 10 samples:\\n\" % (str(y_train.shape)), y_train[:10])"
      ],
      "execution_count": 57,
      "outputs": [
        {
          "output_type": "stream",
          "text": [
            "X_train [shape (50000, 28, 28)] sample patch:\n",
            " [[0.         0.29803922 0.96470588 0.98823529 0.43921569]\n",
            " [0.         0.33333333 0.98823529 0.90196078 0.09803922]\n",
            " [0.         0.33333333 0.98823529 0.8745098  0.        ]\n",
            " [0.         0.33333333 0.98823529 0.56862745 0.        ]\n",
            " [0.         0.3372549  0.99215686 0.88235294 0.        ]]\n",
            "A closeup of a sample patch:\n"
          ],
          "name": "stdout"
        },
        {
          "output_type": "display_data",
          "data": {
            "image/png": "[encoded data removed]",
            "text/plain": [
              "<Figure size 432x288 with 1 Axes>"
            ]
          },
          "metadata": {
            "tags": [],
            "needs_background": "light"
          }
        },
        {
          "output_type": "stream",
          "text": [
            "And the whole sample:\n"
          ],
          "name": "stdout"
        },
        {
          "output_type": "display_data",
          "data": {
            "image/png": "[encoded data removed]",
            "text/plain": [
              "<Figure size 432x288 with 1 Axes>"
            ]
          },
          "metadata": {
            "tags": [],
            "needs_background": "light"
          }
        },
        {
          "output_type": "stream",
          "text": [
            "y_train [shape (50000,)] 10 samples:\n",
            " [5 0 4 1 9 2 1 3 1 4]\n"
          ],
          "name": "stdout"
        }
      ]
    },
    {
      "cell_type": "code",
      "metadata": {
        "id": "D5nULMiFK4UY",
        "colab_type": "code",
        "colab": {
          "base_uri": "https://localhost:8080/",
          "height": 51
        },
        "outputId": "4f2a5a78-5552-4cc4-c73f-b7d11126f56e"
      },
      "source": [
        "# flatten images\n",
        "X_train_flat = X_train.reshape((X_train.shape[0], -1))\n",
        "print(X_train_flat.shape)\n",
        "\n",
        "X_val_flat = X_val.reshape((X_val.shape[0], -1))\n",
        "print(X_val_flat.shape)"
      ],
      "execution_count": 58,
      "outputs": [
        {
          "output_type": "stream",
          "text": [
            "(50000, 784)\n",
            "(10000, 784)\n"
          ],
          "name": "stdout"
        }
      ]
    },
    {
      "cell_type": "code",
      "metadata": {
        "id": "GXh2Fez3K4Un",
        "colab_type": "code",
        "colab": {
          "base_uri": "https://localhost:8080/",
          "height": 85
        },
        "outputId": "fefa6a54-e251-47b8-eec0-441833176a40"
      },
      "source": [
        "# one-hot encode the target\n",
        "y_train_oh = keras.utils.to_categorical(y_train, 10)\n",
        "y_val_oh = keras.utils.to_categorical(y_val, 10)\n",
        "\n",
        "print(y_train_oh.shape)\n",
        "print(y_train_oh[:3], y_train[:3])"
      ],
      "execution_count": 59,
      "outputs": [
        {
          "output_type": "stream",
          "text": [
            "(50000, 10)\n",
            "[[0. 0. 0. 0. 0. 1. 0. 0. 0. 0.]\n",
            " [1. 0. 0. 0. 0. 0. 0. 0. 0. 0.]\n",
            " [0. 0. 0. 0. 1. 0. 0. 0. 0. 0.]] [5 0 4]\n"
          ],
          "name": "stdout"
        }
      ]
    },
    {
      "cell_type": "code",
      "metadata": {
        "id": "BFkyOVmOK4U1",
        "colab_type": "code",
        "colab": {}
      },
      "source": [
        "# building a model with keras\n",
        "from keras.layers import Dense, Activation\n",
        "from keras.models import Sequential\n",
        "\n",
        "# we still need to clear a graph though\n",
        "#s = reset_tf_session()\n",
        "\n",
        "model = Sequential()  # it is a feed-forward network without loops like in RNN\n",
        "model.add(Dense(256,input_shape=(784,))) # the first layer must specify the input shape (replacing placeholders)\n",
        "model.add(Activation('sigmoid'))\n",
        "model.add(Dense(256)\n",
        "model.add(Activation('sigmoid'))\n",
        "model.add(Dense(10))\n",
        "model.add(Activation('softmax'))"
      ],
      "execution_count": 75,
      "outputs": []
    },
    {
      "cell_type": "code",
      "metadata": {
        "id": "0Ct76Z8uK4VF",
        "colab_type": "code",
        "colab": {
          "base_uri": "https://localhost:8080/",
          "height": 357
        },
        "outputId": "12b0d058-651b-4f9e-a135-e6afc79daaec"
      },
      "source": [
        "# you can look at all layers and parameter count\n",
        "model.summary()"
      ],
      "execution_count": 76,
      "outputs": [
        {
          "output_type": "stream",
          "text": [
            "Model: \"sequential_11\"\n",
            "_________________________________________________________________\n",
            "Layer (type)                 Output Shape              Param #   \n",
            "=================================================================\n",
            "dense_33 (Dense)             (None, 256)               200960    \n",
            "_________________________________________________________________\n",
            "activation_33 (Activation)   (None, 256)               0         \n",
            "_________________________________________________________________\n",
            "dense_34 (Dense)             (None, 256)               65792     \n",
            "_________________________________________________________________\n",
            "activation_34 (Activation)   (None, 256)               0         \n",
            "_________________________________________________________________\n",
            "dense_35 (Dense)             (None, 10)                2570      \n",
            "_________________________________________________________________\n",
            "activation_35 (Activation)   (None, 10)                0         \n",
            "=================================================================\n",
            "Total params: 269,322\n",
            "Trainable params: 269,322\n",
            "Non-trainable params: 0\n",
            "_________________________________________________________________\n"
          ],
          "name": "stdout"
        }
      ]
    },
    {
      "cell_type": "code",
      "metadata": {
        "id": "DHfSXb2mK4VR",
        "colab_type": "code",
        "colab": {}
      },
      "source": [
        "# now we \"compile\" the model specifying the loss and optimizer\n",
        "model.compile(\n",
        "    loss='categorical_crossentropy', # this is our cross-entropy\n",
        "    optimizer='adam',\n",
        "    metrics=['accuracy']  # report accuracy during training\n",
        ")"
      ],
      "execution_count": 77,
      "outputs": []
    },
    {
      "cell_type": "code",
      "metadata": {
        "id": "EygG6E8ZK4Vf",
        "colab_type": "code",
        "colab": {
          "base_uri": "https://localhost:8080/",
          "height": 1000
        },
        "outputId": "461fda73-0ca1-43f0-88e9-e749851b465a"
      },
      "source": [
        "# and now we can fit the model with model.fit()\n",
        "# and we don't have to write loops and batching manually as in TensorFlow\n",
        "model.fit(\n",
        "    X_train_flat, \n",
        "    y_train_oh,\n",
        "    batch_size=512, \n",
        "    epochs=40,\n",
        "    validation_data=(X_val_flat, y_val_oh),\n",
        "    callbacks=early_stopping_cb,\n",
        "    verbose=1\n",
        ")"
      ],
      "execution_count": 78,
      "outputs": [
        {
          "output_type": "stream",
          "text": [
            "Epoch 1/40\n",
            "98/98 [==============================] - 2s 20ms/step - loss: 9.9692 - accuracy: 0.5560 - val_loss: 2.5312 - val_accuracy: 0.7169\n",
            "Epoch 2/40\n",
            "98/98 [==============================] - 2s 17ms/step - loss: 1.7843 - accuracy: 0.6963 - val_loss: 1.4526 - val_accuracy: 0.7336\n",
            "Epoch 3/40\n",
            "98/98 [==============================] - 2s 18ms/step - loss: 1.3441 - accuracy: 0.7652 - val_loss: 1.2211 - val_accuracy: 0.8205\n",
            "Epoch 4/40\n",
            "98/98 [==============================] - 2s 17ms/step - loss: 1.1664 - accuracy: 0.8150 - val_loss: 1.0704 - val_accuracy: 0.8615\n",
            "Epoch 5/40\n",
            "98/98 [==============================] - 2s 17ms/step - loss: 1.0435 - accuracy: 0.8483 - val_loss: 0.9724 - val_accuracy: 0.8660\n",
            "Epoch 6/40\n",
            "98/98 [==============================] - 2s 17ms/step - loss: 0.9530 - accuracy: 0.8642 - val_loss: 0.8939 - val_accuracy: 0.8774\n",
            "Epoch 7/40\n",
            "98/98 [==============================] - 2s 18ms/step - loss: 0.8852 - accuracy: 0.8737 - val_loss: 0.8306 - val_accuracy: 0.8940\n",
            "Epoch 8/40\n",
            "98/98 [==============================] - 2s 18ms/step - loss: 0.8269 - accuracy: 0.8831 - val_loss: 0.7856 - val_accuracy: 0.8969\n",
            "Epoch 9/40\n",
            "98/98 [==============================] - 2s 18ms/step - loss: 0.7829 - accuracy: 0.8879 - val_loss: 0.7366 - val_accuracy: 0.8997\n",
            "Epoch 10/40\n",
            "98/98 [==============================] - 2s 18ms/step - loss: 0.7439 - accuracy: 0.8932 - val_loss: 0.7014 - val_accuracy: 0.9055\n",
            "Epoch 11/40\n",
            "98/98 [==============================] - 2s 18ms/step - loss: 0.7128 - accuracy: 0.8961 - val_loss: 0.6799 - val_accuracy: 0.9064\n",
            "Epoch 12/40\n",
            "98/98 [==============================] - 2s 18ms/step - loss: 0.6830 - accuracy: 0.8999 - val_loss: 0.6482 - val_accuracy: 0.9090\n",
            "Epoch 13/40\n",
            "98/98 [==============================] - 2s 18ms/step - loss: 0.6585 - accuracy: 0.9027 - val_loss: 0.6242 - val_accuracy: 0.9127\n",
            "Epoch 14/40\n",
            "98/98 [==============================] - 2s 17ms/step - loss: 0.6380 - accuracy: 0.9037 - val_loss: 0.6097 - val_accuracy: 0.9121\n",
            "Epoch 15/40\n",
            "98/98 [==============================] - 2s 17ms/step - loss: 0.6175 - accuracy: 0.9082 - val_loss: 0.5883 - val_accuracy: 0.9138\n",
            "Epoch 16/40\n",
            "98/98 [==============================] - 2s 18ms/step - loss: 0.6005 - accuracy: 0.9081 - val_loss: 0.5757 - val_accuracy: 0.9149\n",
            "Epoch 17/40\n",
            "98/98 [==============================] - 2s 17ms/step - loss: 0.5843 - accuracy: 0.9095 - val_loss: 0.5600 - val_accuracy: 0.9206\n",
            "Epoch 18/40\n",
            "98/98 [==============================] - 2s 17ms/step - loss: 0.5697 - accuracy: 0.9115 - val_loss: 0.5446 - val_accuracy: 0.9222\n",
            "Epoch 19/40\n",
            "98/98 [==============================] - 2s 18ms/step - loss: 0.5578 - accuracy: 0.9135 - val_loss: 0.5328 - val_accuracy: 0.9223\n",
            "Epoch 20/40\n",
            "98/98 [==============================] - 2s 17ms/step - loss: 0.5461 - accuracy: 0.9147 - val_loss: 0.5309 - val_accuracy: 0.9192\n",
            "Epoch 21/40\n",
            "98/98 [==============================] - 2s 17ms/step - loss: 0.5346 - accuracy: 0.9169 - val_loss: 0.5129 - val_accuracy: 0.9209\n",
            "Epoch 22/40\n",
            "98/98 [==============================] - 2s 18ms/step - loss: 0.5226 - accuracy: 0.9168 - val_loss: 0.5033 - val_accuracy: 0.9224\n",
            "Epoch 23/40\n",
            "98/98 [==============================] - 2s 18ms/step - loss: 0.5120 - accuracy: 0.9204 - val_loss: 0.4968 - val_accuracy: 0.9216\n",
            "Epoch 24/40\n",
            "98/98 [==============================] - 2s 18ms/step - loss: 0.5036 - accuracy: 0.9202 - val_loss: 0.4848 - val_accuracy: 0.9254\n",
            "Epoch 25/40\n",
            "98/98 [==============================] - 2s 18ms/step - loss: 0.4946 - accuracy: 0.9210 - val_loss: 0.4772 - val_accuracy: 0.9248\n",
            "Epoch 26/40\n",
            "98/98 [==============================] - 2s 18ms/step - loss: 0.4858 - accuracy: 0.9223 - val_loss: 0.4652 - val_accuracy: 0.9272\n",
            "Epoch 27/40\n",
            "98/98 [==============================] - 2s 18ms/step - loss: 0.4790 - accuracy: 0.9236 - val_loss: 0.4697 - val_accuracy: 0.9264\n",
            "Epoch 28/40\n",
            "98/98 [==============================] - 2s 17ms/step - loss: 0.4752 - accuracy: 0.9231 - val_loss: 0.4555 - val_accuracy: 0.9289\n",
            "Epoch 29/40\n",
            "98/98 [==============================] - 2s 18ms/step - loss: 0.4659 - accuracy: 0.9261 - val_loss: 0.4545 - val_accuracy: 0.9298\n",
            "Epoch 30/40\n",
            "98/98 [==============================] - 2s 18ms/step - loss: 0.4573 - accuracy: 0.9274 - val_loss: 0.4442 - val_accuracy: 0.9297\n",
            "Epoch 31/40\n",
            "98/98 [==============================] - 2s 18ms/step - loss: 0.4526 - accuracy: 0.9280 - val_loss: 0.4456 - val_accuracy: 0.9274\n",
            "Epoch 32/40\n",
            "98/98 [==============================] - 2s 18ms/step - loss: 0.4466 - accuracy: 0.9293 - val_loss: 0.4374 - val_accuracy: 0.9310\n",
            "Epoch 33/40\n",
            "98/98 [==============================] - 2s 19ms/step - loss: 0.4379 - accuracy: 0.9299 - val_loss: 0.4265 - val_accuracy: 0.9343\n",
            "Epoch 34/40\n",
            "98/98 [==============================] - 2s 20ms/step - loss: 0.4331 - accuracy: 0.9307 - val_loss: 0.4204 - val_accuracy: 0.9340\n",
            "Epoch 35/40\n",
            "98/98 [==============================] - 2s 22ms/step - loss: 0.4308 - accuracy: 0.9318 - val_loss: 0.4229 - val_accuracy: 0.9318\n",
            "Epoch 36/40\n",
            "98/98 [==============================] - 2s 19ms/step - loss: 0.4234 - accuracy: 0.9317 - val_loss: 0.4144 - val_accuracy: 0.9345\n",
            "Epoch 37/40\n",
            "98/98 [==============================] - 2s 18ms/step - loss: 0.4185 - accuracy: 0.9335 - val_loss: 0.4090 - val_accuracy: 0.9328\n",
            "Epoch 38/40\n",
            "98/98 [==============================] - 2s 17ms/step - loss: 0.4124 - accuracy: 0.9342 - val_loss: 0.4099 - val_accuracy: 0.9323\n",
            "Epoch 39/40\n",
            "98/98 [==============================] - 2s 17ms/step - loss: 0.4093 - accuracy: 0.9348 - val_loss: 0.4006 - val_accuracy: 0.9365\n",
            "Epoch 40/40\n",
            "98/98 [==============================] - 2s 17ms/step - loss: 0.4039 - accuracy: 0.9358 - val_loss: 0.3913 - val_accuracy: 0.9387\n"
          ],
          "name": "stdout"
        },
        {
          "output_type": "execute_result",
          "data": {
            "text/plain": [
              "<tensorflow.python.keras.callbacks.History at 0x7f9ae6118780>"
            ]
          },
          "metadata": {
            "tags": []
          },
          "execution_count": 78
        }
      ]
    },
    {
      "cell_type": "markdown",
      "metadata": {
        "id": "li4eKYC5K4Vq",
        "colab_type": "text"
      },
      "source": [
        "# Here're the notes for those who want to play around here\n",
        "\n",
        "Here are some tips on what you could do:\n",
        "\n",
        " * __Network size__\n",
        "   * More neurons, \n",
        "   * More layers, ([docs](https://keras.io/))\n",
        "\n",
        "   * Other nonlinearities in the hidden layers\n",
        "     * tanh, relu, leaky relu, etc\n",
        "   * Larger networks may take more epochs to train, so don't discard your net just because it could didn't beat the baseline in 5 epochs.\n",
        "\n",
        "\n",
        " * __Early Stopping__\n",
        "   * Training for 100 epochs regardless of anything is probably a bad idea.\n",
        "   * Some networks converge over 5 epochs, others - over 500.\n",
        "   * Way to go: stop when validation score is 10 iterations past maximum\n",
        "     \n",
        "\n",
        " * __Faster optimization__\n",
        "   * rmsprop, nesterov_momentum, adam, adagrad and so on.\n",
        "     * Converge faster and sometimes reach better optima\n",
        "     * It might make sense to tweak learning rate/momentum, other learning parameters, batch size and number of epochs\n",
        "\n",
        "\n",
        " * __Regularize__ to prevent overfitting\n",
        "   * Add some L2 weight norm to the loss function, theano will do the rest\n",
        "     * Can be done manually or via - https://keras.io/regularizers/\n",
        "   \n",
        "   \n",
        " * __Data augmemntation__ - getting 5x as large dataset for free is a great deal\n",
        "   * https://keras.io/preprocessing/image/\n",
        "   * Zoom-in+slice = move\n",
        "   * Rotate+zoom(to remove black stripes)\n",
        "   * any other perturbations\n",
        "   * Simple way to do that (if you have PIL/Image): \n",
        "     * ```from scipy.misc import imrotate,imresize```\n",
        "     * and a few slicing\n",
        "   * Stay realistic. There's usually no point in flipping dogs upside down as that is not the way you usually see them."
      ]
    },
    {
      "cell_type": "code",
      "metadata": {
        "id": "Qair39kB7iEa",
        "colab_type": "code",
        "colab": {}
      },
      "source": [
        "# kernel_regularizer : Regularizador para aplicar una penalización en el núcleo o pesos de la capa\n",
        "# bias_regularizer : Regularizador para aplicar una penalización en el sesgo o bias de la capa\n",
        "# activity_regularizer : Regularizador para aplicar una penalización en la salida de la capa\n",
        "# https://keras.io/api/layers/initializers/"
      ],
      "execution_count": null,
      "outputs": []
    },
    {
      "cell_type": "code",
      "metadata": {
        "id": "JLQfK67kK4Vs",
        "colab_type": "code",
        "colab": {}
      },
      "source": [
        "# building a model with keras\n",
        "from keras.layers import Dense, Activation\n",
        "from keras.models import Sequential\n",
        "\n",
        "# we still need to clear a graph though\n",
        "#s = reset_tf_session()\n",
        "\n",
        "model = Sequential()  # it is a feed-forward network without loops like in RNN\n",
        "initializer = tf.keras.initializers.Zeros\n",
        "model.add(Dense(256,\n",
        "                kernel_initializer=initializer, # iniciamlizamos los pesos con unos\n",
        "                input_shape=(784,))) # the first layer must specify the input shape (replacing placeholders)\n",
        "model.add(Activation('tanh'))\n",
        "model.add(Dense(256))\n",
        "model.add(Activation('sigmoid'))\n",
        "model.add(Dense(10,kernel_regularizer=tf.keras.regularizers.l2(0.10),  # Penalizacion l1 con una fuerza de regularizacion 0.01\n",
        "          activity_regularizer=tf.keras.regularizers.l2(0.10) # Penalización l2 con una fuerza de regularizacion 0.01\n",
        "          ))\n",
        "model.add(Activation('softmax'))"
      ],
      "execution_count": 86,
      "outputs": []
    },
    {
      "cell_type": "code",
      "metadata": {
        "id": "GVcitXK-6doh",
        "colab_type": "code",
        "colab": {
          "base_uri": "https://localhost:8080/",
          "height": 357
        },
        "outputId": "bc8b4cb4-fda3-4e5c-a7c6-95c61e30d1aa"
      },
      "source": [
        "# you can look at all layers and parameter count\n",
        "model.summary()"
      ],
      "execution_count": 87,
      "outputs": [
        {
          "output_type": "stream",
          "text": [
            "Model: \"sequential_15\"\n",
            "_________________________________________________________________\n",
            "Layer (type)                 Output Shape              Param #   \n",
            "=================================================================\n",
            "dense_45 (Dense)             (None, 256)               200960    \n",
            "_________________________________________________________________\n",
            "activation_43 (Activation)   (None, 256)               0         \n",
            "_________________________________________________________________\n",
            "dense_46 (Dense)             (None, 256)               65792     \n",
            "_________________________________________________________________\n",
            "activation_44 (Activation)   (None, 256)               0         \n",
            "_________________________________________________________________\n",
            "dense_47 (Dense)             (None, 10)                2570      \n",
            "_________________________________________________________________\n",
            "activation_45 (Activation)   (None, 10)                0         \n",
            "=================================================================\n",
            "Total params: 269,322\n",
            "Trainable params: 269,322\n",
            "Non-trainable params: 0\n",
            "_________________________________________________________________\n"
          ],
          "name": "stdout"
        }
      ]
    },
    {
      "cell_type": "code",
      "metadata": {
        "id": "AmH5mMIm6hRM",
        "colab_type": "code",
        "colab": {}
      },
      "source": [
        "# now we \"compile\" the model specifying the loss and optimizer\n",
        "model.compile(\n",
        "    loss='categorical_crossentropy', # this is our cross-entropy\n",
        "    optimizer='rmsprop',\n",
        "    metrics=['accuracy']  # report accuracy during training\n",
        ")"
      ],
      "execution_count": 88,
      "outputs": []
    },
    {
      "cell_type": "code",
      "metadata": {
        "id": "rzcFnTjt6mLh",
        "colab_type": "code",
        "colab": {}
      },
      "source": [
        "# generando el callback \n",
        "from tensorflow.keras.callbacks import EarlyStopping\n",
        "early_stopping_cb = EarlyStopping(patience=10,# patience:cuantas iteraciones voy a esperar que baje mi perdida para detener el algoritmo\n",
        "                                  verbose=1)"
      ],
      "execution_count": 89,
      "outputs": []
    },
    {
      "cell_type": "code",
      "metadata": {
        "id": "2BzOZPLV6uj5",
        "colab_type": "code",
        "colab": {
          "base_uri": "https://localhost:8080/",
          "height": 1000
        },
        "outputId": "b5ce6703-96ec-4261-e6fc-a3d8d755c574"
      },
      "source": [
        "# and now we can fit the model with model.fit()\n",
        "# and we don't have to write loops and batching manually as in TensorFlow\n",
        "model.fit(\n",
        "    X_train_flat, \n",
        "    y_train_oh,\n",
        "    batch_size=512, \n",
        "    epochs=40,\n",
        "    validation_data=(X_val_flat, y_val_oh),\n",
        "    callbacks=early_stopping_cb,\n",
        "    verbose=1\n",
        ")"
      ],
      "execution_count": 90,
      "outputs": [
        {
          "output_type": "stream",
          "text": [
            "Epoch 1/40\n",
            "98/98 [==============================] - 2s 22ms/step - loss: 2.8572 - accuracy: 0.7821 - val_loss: 2.0604 - val_accuracy: 0.8681\n",
            "Epoch 2/40\n",
            "98/98 [==============================] - 2s 19ms/step - loss: 1.7652 - accuracy: 0.8767 - val_loss: 1.5486 - val_accuracy: 0.9004\n",
            "Epoch 3/40\n",
            "98/98 [==============================] - 2s 19ms/step - loss: 1.4956 - accuracy: 0.9011 - val_loss: 1.4313 - val_accuracy: 0.9178\n",
            "Epoch 4/40\n",
            "98/98 [==============================] - 2s 19ms/step - loss: 1.4181 - accuracy: 0.9166 - val_loss: 1.3771 - val_accuracy: 0.9301\n",
            "Epoch 5/40\n",
            "98/98 [==============================] - 2s 19ms/step - loss: 1.3778 - accuracy: 0.9282 - val_loss: 1.3530 - val_accuracy: 0.9399\n",
            "Epoch 6/40\n",
            "98/98 [==============================] - 2s 19ms/step - loss: 1.3517 - accuracy: 0.9376 - val_loss: 1.3359 - val_accuracy: 0.9447\n",
            "Epoch 7/40\n",
            "98/98 [==============================] - 2s 19ms/step - loss: 1.3325 - accuracy: 0.9446 - val_loss: 1.3258 - val_accuracy: 0.9484\n",
            "Epoch 8/40\n",
            "98/98 [==============================] - 2s 19ms/step - loss: 1.3178 - accuracy: 0.9511 - val_loss: 1.3034 - val_accuracy: 0.9577\n",
            "Epoch 9/40\n",
            "98/98 [==============================] - 2s 20ms/step - loss: 1.3064 - accuracy: 0.9565 - val_loss: 1.2957 - val_accuracy: 0.9609\n",
            "Epoch 10/40\n",
            "98/98 [==============================] - 2s 22ms/step - loss: 1.2970 - accuracy: 0.9605 - val_loss: 1.2899 - val_accuracy: 0.9632\n",
            "Epoch 11/40\n",
            "98/98 [==============================] - 2s 21ms/step - loss: 1.2887 - accuracy: 0.9651 - val_loss: 1.2874 - val_accuracy: 0.9638\n",
            "Epoch 12/40\n",
            "98/98 [==============================] - 2s 21ms/step - loss: 1.2817 - accuracy: 0.9687 - val_loss: 1.2829 - val_accuracy: 0.9652\n",
            "Epoch 13/40\n",
            "98/98 [==============================] - 2s 19ms/step - loss: 1.2755 - accuracy: 0.9712 - val_loss: 1.2745 - val_accuracy: 0.9700\n",
            "Epoch 14/40\n",
            "98/98 [==============================] - 2s 19ms/step - loss: 1.2705 - accuracy: 0.9738 - val_loss: 1.2734 - val_accuracy: 0.9706\n",
            "Epoch 15/40\n",
            "98/98 [==============================] - 2s 19ms/step - loss: 1.2661 - accuracy: 0.9756 - val_loss: 1.2777 - val_accuracy: 0.9711\n",
            "Epoch 16/40\n",
            "98/98 [==============================] - 2s 19ms/step - loss: 1.2623 - accuracy: 0.9776 - val_loss: 1.2660 - val_accuracy: 0.9727\n",
            "Epoch 17/40\n",
            "98/98 [==============================] - 2s 19ms/step - loss: 1.2584 - accuracy: 0.9799 - val_loss: 1.2631 - val_accuracy: 0.9736\n",
            "Epoch 18/40\n",
            "98/98 [==============================] - 2s 19ms/step - loss: 1.2549 - accuracy: 0.9807 - val_loss: 1.2637 - val_accuracy: 0.9748\n",
            "Epoch 19/40\n",
            "98/98 [==============================] - 2s 20ms/step - loss: 1.2524 - accuracy: 0.9825 - val_loss: 1.2621 - val_accuracy: 0.9753\n",
            "Epoch 20/40\n",
            "98/98 [==============================] - 2s 19ms/step - loss: 1.2493 - accuracy: 0.9840 - val_loss: 1.2589 - val_accuracy: 0.9760\n",
            "Epoch 21/40\n",
            "98/98 [==============================] - 2s 19ms/step - loss: 1.2469 - accuracy: 0.9851 - val_loss: 1.2601 - val_accuracy: 0.9760\n",
            "Epoch 22/40\n",
            "98/98 [==============================] - 2s 19ms/step - loss: 1.2446 - accuracy: 0.9862 - val_loss: 1.2619 - val_accuracy: 0.9767\n",
            "Epoch 23/40\n",
            "98/98 [==============================] - 2s 19ms/step - loss: 1.2422 - accuracy: 0.9872 - val_loss: 1.2570 - val_accuracy: 0.9768\n",
            "Epoch 24/40\n",
            "98/98 [==============================] - 2s 19ms/step - loss: 1.2406 - accuracy: 0.9880 - val_loss: 1.2546 - val_accuracy: 0.9782\n",
            "Epoch 25/40\n",
            "98/98 [==============================] - 2s 19ms/step - loss: 1.2390 - accuracy: 0.9887 - val_loss: 1.2529 - val_accuracy: 0.9773\n",
            "Epoch 26/40\n",
            "98/98 [==============================] - 2s 19ms/step - loss: 1.2369 - accuracy: 0.9892 - val_loss: 1.2581 - val_accuracy: 0.9765\n",
            "Epoch 27/40\n",
            "98/98 [==============================] - 2s 19ms/step - loss: 1.2354 - accuracy: 0.9899 - val_loss: 1.2531 - val_accuracy: 0.9774\n",
            "Epoch 28/40\n",
            "98/98 [==============================] - 2s 19ms/step - loss: 1.2340 - accuracy: 0.9904 - val_loss: 1.2525 - val_accuracy: 0.9784\n",
            "Epoch 29/40\n",
            "98/98 [==============================] - 2s 19ms/step - loss: 1.2324 - accuracy: 0.9912 - val_loss: 1.2546 - val_accuracy: 0.9784\n",
            "Epoch 30/40\n",
            "98/98 [==============================] - 2s 19ms/step - loss: 1.2312 - accuracy: 0.9916 - val_loss: 1.2472 - val_accuracy: 0.9798\n",
            "Epoch 31/40\n",
            "98/98 [==============================] - 2s 19ms/step - loss: 1.2298 - accuracy: 0.9921 - val_loss: 1.2527 - val_accuracy: 0.9780\n",
            "Epoch 32/40\n",
            "98/98 [==============================] - 2s 19ms/step - loss: 1.2286 - accuracy: 0.9926 - val_loss: 1.2522 - val_accuracy: 0.9777\n",
            "Epoch 33/40\n",
            "98/98 [==============================] - 2s 19ms/step - loss: 1.2274 - accuracy: 0.9930 - val_loss: 1.2490 - val_accuracy: 0.9788\n",
            "Epoch 34/40\n",
            "98/98 [==============================] - 2s 19ms/step - loss: 1.2263 - accuracy: 0.9932 - val_loss: 1.2486 - val_accuracy: 0.9795\n",
            "Epoch 35/40\n",
            "98/98 [==============================] - 2s 19ms/step - loss: 1.2253 - accuracy: 0.9939 - val_loss: 1.2513 - val_accuracy: 0.9792\n",
            "Epoch 36/40\n",
            "98/98 [==============================] - 2s 19ms/step - loss: 1.2242 - accuracy: 0.9944 - val_loss: 1.2479 - val_accuracy: 0.9794\n",
            "Epoch 37/40\n",
            "98/98 [==============================] - 2s 19ms/step - loss: 1.2232 - accuracy: 0.9946 - val_loss: 1.2510 - val_accuracy: 0.9793\n",
            "Epoch 38/40\n",
            "98/98 [==============================] - 2s 19ms/step - loss: 1.2227 - accuracy: 0.9949 - val_loss: 1.2441 - val_accuracy: 0.9802\n",
            "Epoch 39/40\n",
            "98/98 [==============================] - 2s 19ms/step - loss: 1.2215 - accuracy: 0.9953 - val_loss: 1.2463 - val_accuracy: 0.9790\n",
            "Epoch 40/40\n",
            "98/98 [==============================] - 2s 19ms/step - loss: 1.2206 - accuracy: 0.9958 - val_loss: 1.2504 - val_accuracy: 0.9789\n"
          ],
          "name": "stdout"
        },
        {
          "output_type": "execute_result",
          "data": {
            "text/plain": [
              "<tensorflow.python.keras.callbacks.History at 0x7f9ae95da6d8>"
            ]
          },
          "metadata": {
            "tags": []
          },
          "execution_count": 90
        }
      ]
    },
    {
      "cell_type": "code",
      "metadata": {
        "id": "CMkacvKA-AmR",
        "colab_type": "code",
        "colab": {}
      },
      "source": [
        ""
      ],
      "execution_count": null,
      "outputs": []
    }
  ]
}
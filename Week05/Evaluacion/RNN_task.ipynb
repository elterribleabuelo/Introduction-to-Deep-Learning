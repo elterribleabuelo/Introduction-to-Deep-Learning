{
 "cells": [
  {
   "cell_type": "markdown",
   "metadata": {
    "id": "cUBRfqiUhzan"
   },
   "source": [
    "# **Generando nombres con redes neuronales recurrentes**\n",
    "\n",
    "Esta vez te encontrarás ahondando en el corazón (y otros intestinos) de las redes neuronales recurrentes en una clase de problemas de juguetes.\n",
    "\n",
    "¿Te cuesta encontrar un nombre para la variable? Veamos cómo se le ocurre un nombre para su hijo / a. Seguramente ningún humano se ha especializado en lo que es un buen nombre de niño, así que entrenemos a RNN en su lugar;\n",
    "\n",
    "Es peligroso ir solo, toma estos:"
   ]
  },
  {
   "cell_type": "code",
   "execution_count": 1,
   "metadata": {
    "colab": {
     "base_uri": "https://localhost:8080/",
     "height": 34
    },
    "id": "f2BnQHbliLuP",
    "outputId": "11ed8c99-7ce6-4e6c-8096-11bfba933632"
   },
   "outputs": [
    {
     "name": "stdout",
     "output_type": "stream",
     "text": [
      "Mounted at /content/drive\n"
     ]
    }
   ],
   "source": [
    "from google.colab import drive\n",
    "drive.mount('/content/drive')"
   ]
  },
  {
   "cell_type": "code",
   "execution_count": 1,
   "metadata": {
    "id": "LK9BUt41iyvA"
   },
   "outputs": [],
   "source": [
    "import os\n",
    "os.chdir(\"/content/drive/My Drive/Programacion/Python/Machine Learning avanzado/1.Introduccion al Deep Learning/Semana5\")"
   ]
  },
  {
   "cell_type": "code",
   "execution_count": 2,
   "metadata": {
    "colab": {
     "base_uri": "https://localhost:8080/",
     "height": 204
    },
    "id": "d9SnMEXtmIe6",
    "outputId": "84638132-f427-4af4-b1f8-bc18a7a98191"
   },
   "outputs": [
    {
     "name": "stdout",
     "output_type": "stream",
     "text": [
      "--2020-09-29 18:22:54--  https://raw.githubusercontent.com/hse-aml/intro-to-dl/master/setup_google_colab.py\n",
      "Resolving raw.githubusercontent.com (raw.githubusercontent.com)... 151.101.0.133, 151.101.64.133, 151.101.128.133, ...\n",
      "Connecting to raw.githubusercontent.com (raw.githubusercontent.com)|151.101.0.133|:443... connected.\n",
      "HTTP request sent, awaiting response... 200 OK\n",
      "Length: 3636 (3.6K) [text/plain]\n",
      "Saving to: ‘setup_google_colab.py’\n",
      "\n",
      "\r",
      "setup_google_colab.   0%[                    ]       0  --.-KB/s               \r",
      "setup_google_colab. 100%[===================>]   3.55K  --.-KB/s    in 0.001s  \n",
      "\n",
      "2020-09-29 18:22:55 (3.02 MB/s) - ‘setup_google_colab.py’ saved [3636/3636]\n",
      "\n"
     ]
    }
   ],
   "source": [
    "! shred -u setup_google_colab.py\n",
    "! wget https://raw.githubusercontent.com/hse-aml/intro-to-dl/master/setup_google_colab.py -O setup_google_colab.py\n",
    "import setup_google_colab\n",
    "setup_google_colab.setup_week5()"
   ]
  },
  {
   "cell_type": "code",
   "execution_count": 3,
   "metadata": {
    "ExecuteTime": {
     "end_time": "2018-08-13T20:26:42.696201Z",
     "start_time": "2018-08-13T20:26:38.104103Z"
    },
    "colab": {
     "base_uri": "https://localhost:8080/",
     "height": 479
    },
    "id": "_ADoATiOhzau",
    "outputId": "bc415f3a-517a-4ead-f80f-d041d7158a17"
   },
   "outputs": [
    {
     "name": "stderr",
     "output_type": "stream",
     "text": [
      "/usr/local/lib/python3.6/dist-packages/tensorflow/python/framework/dtypes.py:516: FutureWarning: Passing (type, 1) or '1type' as a synonym of type is deprecated; in a future version of numpy, it will be understood as (type, (1,)) / '(1,)type'.\n",
      "  _np_qint8 = np.dtype([(\"qint8\", np.int8, 1)])\n",
      "/usr/local/lib/python3.6/dist-packages/tensorflow/python/framework/dtypes.py:517: FutureWarning: Passing (type, 1) or '1type' as a synonym of type is deprecated; in a future version of numpy, it will be understood as (type, (1,)) / '(1,)type'.\n",
      "  _np_quint8 = np.dtype([(\"quint8\", np.uint8, 1)])\n",
      "/usr/local/lib/python3.6/dist-packages/tensorflow/python/framework/dtypes.py:518: FutureWarning: Passing (type, 1) or '1type' as a synonym of type is deprecated; in a future version of numpy, it will be understood as (type, (1,)) / '(1,)type'.\n",
      "  _np_qint16 = np.dtype([(\"qint16\", np.int16, 1)])\n",
      "/usr/local/lib/python3.6/dist-packages/tensorflow/python/framework/dtypes.py:519: FutureWarning: Passing (type, 1) or '1type' as a synonym of type is deprecated; in a future version of numpy, it will be understood as (type, (1,)) / '(1,)type'.\n",
      "  _np_quint16 = np.dtype([(\"quint16\", np.uint16, 1)])\n",
      "/usr/local/lib/python3.6/dist-packages/tensorflow/python/framework/dtypes.py:520: FutureWarning: Passing (type, 1) or '1type' as a synonym of type is deprecated; in a future version of numpy, it will be understood as (type, (1,)) / '(1,)type'.\n",
      "  _np_qint32 = np.dtype([(\"qint32\", np.int32, 1)])\n",
      "/usr/local/lib/python3.6/dist-packages/tensorflow/python/framework/dtypes.py:525: FutureWarning: Passing (type, 1) or '1type' as a synonym of type is deprecated; in a future version of numpy, it will be understood as (type, (1,)) / '(1,)type'.\n",
      "  np_resource = np.dtype([(\"resource\", np.ubyte, 1)])\n",
      "/usr/local/lib/python3.6/dist-packages/tensorboard/compat/tensorflow_stub/dtypes.py:541: FutureWarning: Passing (type, 1) or '1type' as a synonym of type is deprecated; in a future version of numpy, it will be understood as (type, (1,)) / '(1,)type'.\n",
      "  _np_qint8 = np.dtype([(\"qint8\", np.int8, 1)])\n",
      "/usr/local/lib/python3.6/dist-packages/tensorboard/compat/tensorflow_stub/dtypes.py:542: FutureWarning: Passing (type, 1) or '1type' as a synonym of type is deprecated; in a future version of numpy, it will be understood as (type, (1,)) / '(1,)type'.\n",
      "  _np_quint8 = np.dtype([(\"quint8\", np.uint8, 1)])\n",
      "/usr/local/lib/python3.6/dist-packages/tensorboard/compat/tensorflow_stub/dtypes.py:543: FutureWarning: Passing (type, 1) or '1type' as a synonym of type is deprecated; in a future version of numpy, it will be understood as (type, (1,)) / '(1,)type'.\n",
      "  _np_qint16 = np.dtype([(\"qint16\", np.int16, 1)])\n",
      "/usr/local/lib/python3.6/dist-packages/tensorboard/compat/tensorflow_stub/dtypes.py:544: FutureWarning: Passing (type, 1) or '1type' as a synonym of type is deprecated; in a future version of numpy, it will be understood as (type, (1,)) / '(1,)type'.\n",
      "  _np_quint16 = np.dtype([(\"quint16\", np.uint16, 1)])\n",
      "/usr/local/lib/python3.6/dist-packages/tensorboard/compat/tensorflow_stub/dtypes.py:545: FutureWarning: Passing (type, 1) or '1type' as a synonym of type is deprecated; in a future version of numpy, it will be understood as (type, (1,)) / '(1,)type'.\n",
      "  _np_qint32 = np.dtype([(\"qint32\", np.int32, 1)])\n",
      "/usr/local/lib/python3.6/dist-packages/tensorboard/compat/tensorflow_stub/dtypes.py:550: FutureWarning: Passing (type, 1) or '1type' as a synonym of type is deprecated; in a future version of numpy, it will be understood as (type, (1,)) / '(1,)type'.\n",
      "  np_resource = np.dtype([(\"resource\", np.ubyte, 1)])\n",
      "Using TensorFlow backend.\n"
     ]
    },
    {
     "name": "stdout",
     "output_type": "stream",
     "text": [
      "1.14.0\n"
     ]
    }
   ],
   "source": [
    "import tensorflow as tf\n",
    "print(tf.__version__)\n",
    "import numpy as np\n",
    "import matplotlib.pyplot as plt\n",
    "%matplotlib inline\n",
    "import os\n",
    "import sys\n",
    "sys.path.append(\"..\")\n",
    "import keras_utils\n",
    "import tqdm_utils"
   ]
  },
  {
   "cell_type": "markdown",
   "metadata": {
    "id": "6v4wSAeThzaz"
   },
   "source": [
    "# **Cargar datos**\n",
    "El conjunto de datos contiene ~ 8k nombres terrestres de diferentes culturas, todos en transcripción latina.\n",
    "\n",
    "Este cuaderno ha sido diseñado para permitirle intercambiar rápidamente nombres por algo similar: títulos de artículos de aprendizaje profundo, muebles de IKEA, nombres de Pokémon, etc"
   ]
  },
  {
   "cell_type": "code",
   "execution_count": 4,
   "metadata": {
    "ExecuteTime": {
     "end_time": "2018-08-13T20:26:42.701832Z",
     "start_time": "2018-08-13T20:26:42.697766Z"
    },
    "id": "iFWU5nwVhza0"
   },
   "outputs": [],
   "source": [
    "start_token = \" \"  # para que la red sepa que estamos generando un primer token\n",
    "\n",
    "# este es el token para relleno\n",
    "# agregaremos un token de almohadilla falso al final de los nombres \n",
    "# para hacerlos del mismo tamaño para su posterior procesamiento por lotes\n",
    "pad_token = \"#\"\n",
    "\n",
    "with open(\"names\") as f:\n",
    "    names = f.read()[:-1].split('\\n')\n",
    "    names = [start_token + name for name in names]"
   ]
  },
  {
   "cell_type": "code",
   "execution_count": 5,
   "metadata": {
    "colab": {
     "base_uri": "https://localhost:8080/",
     "height": 34
    },
    "id": "0ZXclonkhza4",
    "outputId": "330b31da-eb2d-4268-f4b4-9a965ec711e9"
   },
   "outputs": [
    {
     "data": {
      "text/plain": [
       "list"
      ]
     },
     "execution_count": 5,
     "metadata": {
      "tags": []
     },
     "output_type": "execute_result"
    }
   ],
   "source": [
    "type(names)"
   ]
  },
  {
   "cell_type": "code",
   "execution_count": 6,
   "metadata": {
    "colab": {
     "base_uri": "https://localhost:8080/",
     "height": 34
    },
    "id": "6bmnlIOEhza8",
    "outputId": "846427de-8bb4-4e66-c5f3-2a56c2df4372"
   },
   "outputs": [
    {
     "data": {
      "text/plain": [
       "[' Abagael', ' Abagail', ' Abbe', ' Abbey', ' Abbi']"
      ]
     },
     "execution_count": 6,
     "metadata": {
      "tags": []
     },
     "output_type": "execute_result"
    }
   ],
   "source": [
    "names[:5]"
   ]
  },
  {
   "cell_type": "code",
   "execution_count": 7,
   "metadata": {
    "ExecuteTime": {
     "end_time": "2018-08-13T20:26:42.707885Z",
     "start_time": "2018-08-13T20:26:42.703302Z"
    },
    "colab": {
     "base_uri": "https://localhost:8080/",
     "height": 170
    },
    "id": "rjNtZvQOhzbA",
    "outputId": "a86bc651-a359-497b-aa91-a4e32a30a89d"
   },
   "outputs": [
    {
     "name": "stdout",
     "output_type": "stream",
     "text": [
      "number of samples: 7944\n",
      " Abagael\n",
      " Claresta\n",
      " Glory\n",
      " Liliane\n",
      " Prissie\n",
      " Geeta\n",
      " Giovanne\n",
      " Piggy\n"
     ]
    }
   ],
   "source": [
    "print('number of samples:', len(names))\n",
    "for x in names[::1000]: # Accedemos a los elementos de 1000 en 1000\n",
    "    print(x)"
   ]
  },
  {
   "cell_type": "code",
   "execution_count": 8,
   "metadata": {
    "ExecuteTime": {
     "end_time": "2018-08-13T20:26:42.857411Z",
     "start_time": "2018-08-13T20:26:42.709371Z"
    },
    "colab": {
     "base_uri": "https://localhost:8080/",
     "height": 298
    },
    "id": "aI7fAFY_hzbD",
    "outputId": "dd75f4d1-b41c-44a6-f6a1-8d0d1a3316c8"
   },
   "outputs": [
    {
     "name": "stdout",
     "output_type": "stream",
     "text": [
      "max length: 16\n"
     ]
    },
    {
     "data": {
      "image/png": "[encoded data removed]",
      "text/plain": [
       "<Figure size 432x288 with 1 Axes>"
      ]
     },
     "metadata": {
      "needs_background": "light",
      "tags": []
     },
     "output_type": "display_data"
    }
   ],
   "source": [
    "MAX_LENGTH = max(map(len, names))\n",
    "print(\"max length:\", MAX_LENGTH) # maximo numero de caracteres en un nombre que se encuentre en la lista names\n",
    "\n",
    "plt.title('Sequence length distribution')\n",
    "plt.hist(list(map(len, names)), bins=25);"
   ]
  },
  {
   "cell_type": "markdown",
   "metadata": {
    "id": "WKpF83LFhzbI"
   },
   "source": [
    "# **Procesamiento de texto**\n",
    "\n",
    "Primero necesitamos recopilar un \"vocabulario\" de todos los tokens únicos, es decir, personajes únicos. Luego podemos codificar las entradas como una secuencia de identificadores de caracteres."
   ]
  },
  {
   "cell_type": "code",
   "execution_count": 9,
   "metadata": {
    "colab": {
     "base_uri": "https://localhost:8080/",
     "height": 1000
    },
    "id": "5e63dZCxhzbJ",
    "outputId": "9b7853d6-eb5c-4057-b343-c5c039d287a1"
   },
   "outputs": [
    {
     "data": {
      "text/plain": [
       "[' Abagael',\n",
       " ' Abagail',\n",
       " ' Abbe',\n",
       " ' Abbey',\n",
       " ' Abbi',\n",
       " ' Abbie',\n",
       " ' Abby',\n",
       " ' Abigael',\n",
       " ' Abigail',\n",
       " ' Abigale',\n",
       " ' Abra',\n",
       " ' Acacia',\n",
       " ' Ada',\n",
       " ' Adah',\n",
       " ' Adaline',\n",
       " ' Adara',\n",
       " ' Addie',\n",
       " ' Addis',\n",
       " ' Adel',\n",
       " ' Adela',\n",
       " ' Adelaide',\n",
       " ' Adele',\n",
       " ' Adelice',\n",
       " ' Adelina',\n",
       " ' Adelind',\n",
       " ' Adeline',\n",
       " ' Adella',\n",
       " ' Adelle',\n",
       " ' Adena',\n",
       " ' Adey',\n",
       " ' Adi',\n",
       " ' Adiana',\n",
       " ' Adina',\n",
       " ' Adora',\n",
       " ' Adore',\n",
       " ' Adoree',\n",
       " ' Adorne',\n",
       " ' Adrea',\n",
       " ' Adria',\n",
       " ' Adriaens',\n",
       " ' Adrian',\n",
       " ' Adriana',\n",
       " ' Adriane',\n",
       " ' Adrianna',\n",
       " ' Adrianne',\n",
       " ' Adrien',\n",
       " ' Adriena',\n",
       " ' Adrienne',\n",
       " ' Aeriel',\n",
       " ' Aeriela',\n",
       " ' Aeriell',\n",
       " ' Ag',\n",
       " ' Agace',\n",
       " ' Agata',\n",
       " ' Agatha',\n",
       " ' Agathe',\n",
       " ' Aggi',\n",
       " ' Aggie',\n",
       " ' Aggy',\n",
       " ' Agna',\n",
       " ' Agnella',\n",
       " ' Agnes',\n",
       " ' Agnese',\n",
       " ' Agnesse',\n",
       " ' Agneta',\n",
       " ' Agnola',\n",
       " ' Agretha',\n",
       " ' Aida',\n",
       " ' Aidan',\n",
       " ' Aigneis',\n",
       " ' Aila',\n",
       " ' Aile',\n",
       " ' Ailee',\n",
       " ' Aileen',\n",
       " ' Ailene',\n",
       " ' Ailey',\n",
       " ' Aili',\n",
       " ' Ailina',\n",
       " ' Ailyn',\n",
       " ' Aime',\n",
       " ' Aimee',\n",
       " ' Aimil',\n",
       " ' Aina',\n",
       " ' Aindrea',\n",
       " ' Ainslee',\n",
       " ' Ainsley',\n",
       " ' Ainslie',\n",
       " ' Ajay',\n",
       " ' Alaine',\n",
       " ' Alameda',\n",
       " ' Alana',\n",
       " ' Alanah',\n",
       " ' Alane',\n",
       " ' Alanna',\n",
       " ' Alayne',\n",
       " ' Alberta',\n",
       " ' Albertina',\n",
       " ' Albertine',\n",
       " ' Albina',\n",
       " ' Alecia',\n",
       " ' Aleda',\n",
       " ' Aleece',\n",
       " ' Aleecia',\n",
       " ' Aleen',\n",
       " ' Alejandra',\n",
       " ' Alejandrina',\n",
       " ' Alena',\n",
       " ' Alene',\n",
       " ' Alessandra',\n",
       " ' Aleta',\n",
       " ' Alethea',\n",
       " ' Alex',\n",
       " ' Alexa',\n",
       " ' Alexandra',\n",
       " ' Alexandrina',\n",
       " ' Alexi',\n",
       " ' Alexia',\n",
       " ' Alexina',\n",
       " ' Alexine',\n",
       " ' Alexis',\n",
       " ' Alfie',\n",
       " ' Alfreda',\n",
       " ' Ali',\n",
       " ' Alia',\n",
       " ' Alica',\n",
       " ' Alice',\n",
       " ' Alicea',\n",
       " ' Alicia',\n",
       " ' Alida',\n",
       " ' Alidia',\n",
       " ' Alina',\n",
       " ' Aline',\n",
       " ' Alis',\n",
       " ' Alisa',\n",
       " ' Alisha',\n",
       " ' Alison',\n",
       " ' Alissa',\n",
       " ' Alisun',\n",
       " ' Alix',\n",
       " ' Aliza',\n",
       " ' Alla',\n",
       " ' Alleen',\n",
       " ' Allegra',\n",
       " ' Allene',\n",
       " ' Alli',\n",
       " ' Allianora',\n",
       " ' Allie',\n",
       " ' Allina',\n",
       " ' Allis',\n",
       " ' Allison',\n",
       " ' Allissa',\n",
       " ' Allsun',\n",
       " ' Ally',\n",
       " ' Allyce',\n",
       " ' Allyn',\n",
       " ' Allys',\n",
       " ' Allyson',\n",
       " ' Alma',\n",
       " ' Almeda',\n",
       " ' Almeria',\n",
       " ' Almeta',\n",
       " ' Almira',\n",
       " ' Almire',\n",
       " ' Aloise',\n",
       " ' Aloisia',\n",
       " ' Aloysia',\n",
       " ' Alpa',\n",
       " ' Alta',\n",
       " ' Althea',\n",
       " ' Alvera',\n",
       " ' Alvina',\n",
       " ' Alvinia',\n",
       " ' Alvira',\n",
       " ' Alyce',\n",
       " ' Alyda',\n",
       " ' Alys',\n",
       " ' Alysa',\n",
       " ' Alyse',\n",
       " ' Alysia',\n",
       " ' Alyson',\n",
       " ' Alyss',\n",
       " ' Alyssa',\n",
       " ' Amabel',\n",
       " ' Amabelle',\n",
       " ' Amalea',\n",
       " ' Amalee',\n",
       " ' Amaleta',\n",
       " ' Amalia',\n",
       " ' Amalie',\n",
       " ' Amalita',\n",
       " ' Amalle',\n",
       " ' Amanda',\n",
       " ' Amandi',\n",
       " ' Amandie',\n",
       " ' Amandy',\n",
       " ' Amara',\n",
       " ' Amargo',\n",
       " ' Amata',\n",
       " ' Amber',\n",
       " ' Amberly',\n",
       " ' Ambrosia',\n",
       " ' Ambur',\n",
       " ' Ame',\n",
       " ' Amelia',\n",
       " ' Amelie',\n",
       " ' Amelina',\n",
       " ' Ameline',\n",
       " ' Amelita',\n",
       " ' Ami',\n",
       " ' Amie',\n",
       " ' Amity',\n",
       " ' Ammamaria',\n",
       " ' Amy',\n",
       " ' Ana',\n",
       " ' Anabel',\n",
       " ' Anabella',\n",
       " ' Anabelle',\n",
       " ' Anais',\n",
       " ' Analiese',\n",
       " ' Analise',\n",
       " ' Anallese',\n",
       " ' Anallise',\n",
       " ' Anastasia',\n",
       " ' Anastasie',\n",
       " ' Anastassia',\n",
       " ' Anatola',\n",
       " ' Andee',\n",
       " ' Andi',\n",
       " ' Andie',\n",
       " ' Andra',\n",
       " ' Andrea',\n",
       " ' Andreana',\n",
       " ' Andree',\n",
       " ' Andrei',\n",
       " ' Andria',\n",
       " ' Andriana',\n",
       " ' Andriette',\n",
       " ' Andromache',\n",
       " ' Andromeda',\n",
       " ' Andy',\n",
       " ' Anestassia',\n",
       " ' Anet',\n",
       " ' Anett',\n",
       " ' Anetta',\n",
       " ' Anette',\n",
       " ' Ange',\n",
       " ' Angel',\n",
       " ' Angela',\n",
       " ' Angele',\n",
       " ' Angelia',\n",
       " ' Angelica',\n",
       " ' Angelika',\n",
       " ' Angelina',\n",
       " ' Angeline',\n",
       " ' Angelique',\n",
       " ' Angelita',\n",
       " ' Angelle',\n",
       " ' Angie',\n",
       " ' Angil',\n",
       " ' Angy',\n",
       " ' Ania',\n",
       " ' Anica',\n",
       " ' Anissa',\n",
       " ' Anita',\n",
       " ' Anitra',\n",
       " ' Anja',\n",
       " ' Anjanette',\n",
       " ' Anjela',\n",
       " ' Ann',\n",
       " ' Ann-Mari',\n",
       " ' Ann-Marie',\n",
       " ' Anna',\n",
       " ' Anna-Diana',\n",
       " ' Anna-Diane',\n",
       " ' Anna-Maria',\n",
       " ' Annabal',\n",
       " ' Annabel',\n",
       " ' Annabela',\n",
       " ' Annabell',\n",
       " ' Annabella',\n",
       " ' Annabelle',\n",
       " ' Annadiana',\n",
       " ' Annadiane',\n",
       " ' Annalee',\n",
       " ' Annalena',\n",
       " ' Annaliese',\n",
       " ' Annalisa',\n",
       " ' Annalise',\n",
       " ' Annalyse',\n",
       " ' Annamari',\n",
       " ' Annamaria',\n",
       " ' Annamarie',\n",
       " ' Anne',\n",
       " ' Anne-Corinne',\n",
       " ' Anne-Mar',\n",
       " ' Anne-Marie',\n",
       " ' Annecorinne',\n",
       " ' Anneliese',\n",
       " ' Annelise',\n",
       " ' Annemarie',\n",
       " ' Annetta',\n",
       " ' Annette',\n",
       " ' Anni',\n",
       " ' Annice',\n",
       " ' Annie',\n",
       " ' Annissa',\n",
       " ' Annmaria',\n",
       " ' Annmarie',\n",
       " ' Annnora',\n",
       " ' Annora',\n",
       " ' Anny',\n",
       " ' Anselma',\n",
       " ' Ansley',\n",
       " ' Anstice',\n",
       " ' Anthe',\n",
       " ' Anthea',\n",
       " ' Anthia',\n",
       " ' Antoinette',\n",
       " ' Antonella',\n",
       " ' Antonetta',\n",
       " ' Antonia',\n",
       " ' Antonie',\n",
       " ' Antonietta',\n",
       " ' Antonina',\n",
       " ' Anya',\n",
       " ' Aphrodite',\n",
       " ' Appolonia',\n",
       " ' April',\n",
       " ' Aprilette',\n",
       " ' Ara',\n",
       " ' Arabel',\n",
       " ' Arabela',\n",
       " ' Arabele',\n",
       " ' Arabella',\n",
       " ' Arabelle',\n",
       " ' Arda',\n",
       " ' Ardath',\n",
       " ' Ardeen',\n",
       " ' Ardelia',\n",
       " ' Ardelis',\n",
       " ' Ardella',\n",
       " ' Ardelle',\n",
       " ' Arden',\n",
       " ' Ardene',\n",
       " ' Ardenia',\n",
       " ' Ardine',\n",
       " ' Ardis',\n",
       " ' Ardith',\n",
       " ' Ardra',\n",
       " ' Ardyce',\n",
       " ' Ardys',\n",
       " ' Ardyth',\n",
       " ' Aretha',\n",
       " ' Ariadne',\n",
       " ' Ariana',\n",
       " ' Arianne',\n",
       " ' Aridatha',\n",
       " ' Ariel',\n",
       " ' Ariela',\n",
       " ' Ariella',\n",
       " ' Arielle',\n",
       " ' Arlana',\n",
       " ' Arlee',\n",
       " ' Arleen',\n",
       " ' Arlen',\n",
       " ' Arlena',\n",
       " ' Arlene',\n",
       " ' Arleta',\n",
       " ' Arlette',\n",
       " ' Arleyne',\n",
       " ' Arlie',\n",
       " ' Arliene',\n",
       " ' Arlina',\n",
       " ' Arlinda',\n",
       " ' Arline',\n",
       " ' Arly',\n",
       " ' Arlyn',\n",
       " ' Arlyne',\n",
       " ' Aryn',\n",
       " ' Ashely',\n",
       " ' Ashlee',\n",
       " ' Ashleigh',\n",
       " ' Ashlen',\n",
       " ' Ashley',\n",
       " ' Ashli',\n",
       " ' Ashlie',\n",
       " ' Ashly',\n",
       " ' Asia',\n",
       " ' Astra',\n",
       " ' Astrid',\n",
       " ' Astrix',\n",
       " ' Atalanta',\n",
       " ' Athena',\n",
       " ' Athene',\n",
       " ' Atlanta',\n",
       " ' Atlante',\n",
       " ' Auberta',\n",
       " ' Aubine',\n",
       " ' Aubree',\n",
       " ' Aubrette',\n",
       " ' Aubrey',\n",
       " ' Aubrie',\n",
       " ' Aubry',\n",
       " ' Audi',\n",
       " ' Audie',\n",
       " ' Audra',\n",
       " ' Audre',\n",
       " ' Audrey',\n",
       " ' Audrie',\n",
       " ' Audry',\n",
       " ' Audrye',\n",
       " ' Audy',\n",
       " ' Augusta',\n",
       " ' Auguste',\n",
       " ' Augustina',\n",
       " ' Augustine',\n",
       " ' Aura',\n",
       " ' Aurea',\n",
       " ' Aurel',\n",
       " ' Aurelea',\n",
       " ' Aurelia',\n",
       " ' Aurelie',\n",
       " ' Auria',\n",
       " ' Aurie',\n",
       " ' Aurilia',\n",
       " ' Aurlie',\n",
       " ' Auroora',\n",
       " ' Aurora',\n",
       " ' Aurore',\n",
       " ' Austin',\n",
       " ' Austina',\n",
       " ' Austine',\n",
       " ' Ava',\n",
       " ' Aveline',\n",
       " ' Averil',\n",
       " ' Averyl',\n",
       " ' Avie',\n",
       " ' Avis',\n",
       " ' Aviva',\n",
       " ' Avivah',\n",
       " ' Avril',\n",
       " ' Avrit',\n",
       " ' Ayn',\n",
       " ' Bab',\n",
       " ' Babara',\n",
       " ' Babette',\n",
       " ' Babita',\n",
       " ' Babs',\n",
       " ' Bambi',\n",
       " ' Bambie',\n",
       " ' Bamby',\n",
       " ' Barb',\n",
       " ' Barbabra',\n",
       " ' Barbara',\n",
       " ' Barbara-Anne',\n",
       " ' Barbaraanne',\n",
       " ' Barbe',\n",
       " ' Barbee',\n",
       " ' Barbette',\n",
       " ' Barbey',\n",
       " ' Barbi',\n",
       " ' Barbie',\n",
       " ' Barbra',\n",
       " ' Barby',\n",
       " ' Bari',\n",
       " ' Barrie',\n",
       " ' Barry',\n",
       " ' Basia',\n",
       " ' Bathsheba',\n",
       " ' Batsheva',\n",
       " ' Bea',\n",
       " ' Beatrice',\n",
       " ' Beatrisa',\n",
       " ' Beatrix',\n",
       " ' Beatriz',\n",
       " ' Beau',\n",
       " ' Bebe',\n",
       " ' Becca',\n",
       " ' Becka',\n",
       " ' Becki',\n",
       " ' Beckie',\n",
       " ' Becky',\n",
       " ' Bee',\n",
       " ' Beilul',\n",
       " ' Beitris',\n",
       " ' Bekki',\n",
       " ' Bel',\n",
       " ' Belia',\n",
       " ' Belicia',\n",
       " ' Belinda',\n",
       " ' Belita',\n",
       " ' Bell',\n",
       " ' Bella',\n",
       " ' Bellamy',\n",
       " ' Bellanca',\n",
       " ' Belle',\n",
       " ' Bellina',\n",
       " ' Belva',\n",
       " ' Belvia',\n",
       " ' Bendite',\n",
       " ' Benedetta',\n",
       " ' Benedicta',\n",
       " ' Benedikta',\n",
       " ' Benetta',\n",
       " ' Benita',\n",
       " ' Benni',\n",
       " ' Bennie',\n",
       " ' Benny',\n",
       " ' Benoite',\n",
       " ' Berenice',\n",
       " ' Beret',\n",
       " ' Berget',\n",
       " ' Berna',\n",
       " ' Bernadene',\n",
       " ' Bernadette',\n",
       " ' Bernadina',\n",
       " ' Bernadine',\n",
       " ' Bernardina',\n",
       " ' Bernardine',\n",
       " ' Bernelle',\n",
       " ' Bernete',\n",
       " ' Bernetta',\n",
       " ' Bernette',\n",
       " ' Berni',\n",
       " ' Bernice',\n",
       " ' Bernie',\n",
       " ' Bernita',\n",
       " ' Berny',\n",
       " ' Berri',\n",
       " ' Berrie',\n",
       " ' Berry',\n",
       " ' Bert',\n",
       " ' Berta',\n",
       " ' Berte',\n",
       " ' Bertha',\n",
       " ' Berthe',\n",
       " ' Berti',\n",
       " ' Bertie',\n",
       " ' Bertina',\n",
       " ' Bertine',\n",
       " ' Berty',\n",
       " ' Beryl',\n",
       " ' Beryle',\n",
       " ' Bess',\n",
       " ' Bessie',\n",
       " ' Bessy',\n",
       " ' Beth',\n",
       " ' Bethanne',\n",
       " ' Bethany',\n",
       " ' Bethena',\n",
       " ' Bethina',\n",
       " ' Betsey',\n",
       " ' Betsy',\n",
       " ' Betta',\n",
       " ' Bette',\n",
       " ' Bette-Ann',\n",
       " ' Betteann',\n",
       " ' Betteanne',\n",
       " ' Betti',\n",
       " ' Bettie',\n",
       " ' Bettina',\n",
       " ' Bettine',\n",
       " ' Betty',\n",
       " ' Bettye',\n",
       " ' Beulah',\n",
       " ' Bev',\n",
       " ' Beverie',\n",
       " ' Beverlee',\n",
       " ' Beverlie',\n",
       " ' Beverly',\n",
       " ' Bevvy',\n",
       " ' Bianca',\n",
       " ' Bianka',\n",
       " ' Biddy',\n",
       " ' Bidget',\n",
       " ' Bill',\n",
       " ' Billi',\n",
       " ' Billie',\n",
       " ' Billy',\n",
       " ' Binni',\n",
       " ' Binnie',\n",
       " ' Binny',\n",
       " ' Bird',\n",
       " ' Birdie',\n",
       " ' Birgit',\n",
       " ' Birgitta',\n",
       " ' Blair',\n",
       " ' Blaire',\n",
       " ' Blake',\n",
       " ' Blakelee',\n",
       " ' Blakeley',\n",
       " ' Blanca',\n",
       " ' Blanch',\n",
       " ' Blancha',\n",
       " ' Blanche',\n",
       " ' Blinni',\n",
       " ' Blinnie',\n",
       " ' Blinny',\n",
       " ' Bliss',\n",
       " ' Blisse',\n",
       " ' Blithe',\n",
       " ' Blondell',\n",
       " ' Blondelle',\n",
       " ' Blondie',\n",
       " ' Blondy',\n",
       " ' Blythe',\n",
       " ' Bo',\n",
       " ' Bobbette',\n",
       " ' Bobbi',\n",
       " ' Bobbie',\n",
       " ' Bobby',\n",
       " ' Bobette',\n",
       " ' Bobina',\n",
       " ' Bobine',\n",
       " ' Bobinette',\n",
       " ' Bonita',\n",
       " ' Bonnee',\n",
       " ' Bonni',\n",
       " ' Bonnie',\n",
       " ' Bonny',\n",
       " ' Brana',\n",
       " ' Brandais',\n",
       " ' Brande',\n",
       " ' Brandea',\n",
       " ' Brandi',\n",
       " ' Brandice',\n",
       " ' Brandie',\n",
       " ' Brandise',\n",
       " ' Brandy',\n",
       " ' Brea',\n",
       " ' Breanne',\n",
       " ' Brear',\n",
       " ' Bree',\n",
       " ' Breena',\n",
       " ' Bren',\n",
       " ' Brena',\n",
       " ' Brenda',\n",
       " ' Brenn',\n",
       " ' Brenna',\n",
       " ' Brett',\n",
       " ' Bria',\n",
       " ' Briana',\n",
       " ' Brianna',\n",
       " ' Brianne',\n",
       " ' Bride',\n",
       " ' Bridget',\n",
       " ' Bridgett',\n",
       " ' Bridgette',\n",
       " ' Bridie',\n",
       " ' Brier',\n",
       " ' Brietta',\n",
       " ' Brigid',\n",
       " ' Brigida',\n",
       " ' Brigit',\n",
       " ' Brigitta',\n",
       " ' Brigitte',\n",
       " ' Brina',\n",
       " ' Briney',\n",
       " ' Briny',\n",
       " ' Brit',\n",
       " ' Brita',\n",
       " ' Britaney',\n",
       " ' Britani',\n",
       " ' Briteny',\n",
       " ' Britney',\n",
       " ' Britni',\n",
       " ' Britt',\n",
       " ' Britta',\n",
       " ' Brittan',\n",
       " ' Brittany',\n",
       " ' Britte',\n",
       " ' Brittney',\n",
       " ' Brook',\n",
       " ' Brooke',\n",
       " ' Brooks',\n",
       " ' Brunella',\n",
       " ' Brunhilda',\n",
       " ' Brunhilde',\n",
       " ' Bryana',\n",
       " ' Bryn',\n",
       " ' Bryna',\n",
       " ' Brynn',\n",
       " ' Brynna',\n",
       " ' Brynne',\n",
       " ' Buffy',\n",
       " ' Bunni',\n",
       " ' Bunnie',\n",
       " ' Bunny',\n",
       " ' Burta',\n",
       " ' Cabrina',\n",
       " ' Cacilia',\n",
       " ' Cacilie',\n",
       " ' Caitlin',\n",
       " ' Caitrin',\n",
       " ' Cal',\n",
       " ' Calida',\n",
       " ' Calla',\n",
       " ' Calley',\n",
       " ' Calli',\n",
       " ' Callida',\n",
       " ' Callie',\n",
       " ' Cally',\n",
       " ' Calypso',\n",
       " ' Cam',\n",
       " ' Camala',\n",
       " ' Camel',\n",
       " ' Camella',\n",
       " ' Camellia',\n",
       " ' Cameo',\n",
       " ' Cami',\n",
       " ' Camila',\n",
       " ' Camile',\n",
       " ' Camilla',\n",
       " ' Camille',\n",
       " ' Cammi',\n",
       " ' Cammie',\n",
       " ' Cammy',\n",
       " ' Canada',\n",
       " ' Candace',\n",
       " ' Candi',\n",
       " ' Candice',\n",
       " ' Candida',\n",
       " ' Candide',\n",
       " ' Candie',\n",
       " ' Candis',\n",
       " ' Candra',\n",
       " ' Candy',\n",
       " ' Cappella',\n",
       " ' Caprice',\n",
       " ' Cara',\n",
       " ' Caralie',\n",
       " ' Caren',\n",
       " ' Carena',\n",
       " ' Caresa',\n",
       " ' Caressa',\n",
       " ' Caresse',\n",
       " ' Carey',\n",
       " ' Cari',\n",
       " ' Caria',\n",
       " ' Carie',\n",
       " ' Caril',\n",
       " ' Carilyn',\n",
       " ' Carin',\n",
       " ' Carina',\n",
       " ' Carine',\n",
       " ' Cariotta',\n",
       " ' Carissa',\n",
       " ' Carita',\n",
       " ' Caritta',\n",
       " ' Carla',\n",
       " ' Carlee',\n",
       " ' Carleen',\n",
       " ' Carlen',\n",
       " ' Carlena',\n",
       " ' Carlene',\n",
       " ' Carley',\n",
       " ' Carli',\n",
       " ' Carlie',\n",
       " ' Carlin',\n",
       " ' Carlina',\n",
       " ' Carline',\n",
       " ' Carlisle',\n",
       " ' Carlita',\n",
       " ' Carlota',\n",
       " ' Carlotta',\n",
       " ' Carly',\n",
       " ' Carlye',\n",
       " ' Carlyn',\n",
       " ' Carlynn',\n",
       " ' Carlynne',\n",
       " ' Carma',\n",
       " ' Carmel',\n",
       " ' Carmela',\n",
       " ' Carmelia',\n",
       " ' Carmelina',\n",
       " ' Carmelita',\n",
       " ' Carmella',\n",
       " ' Carmelle',\n",
       " ' Carmen',\n",
       " ' Carmina',\n",
       " ' Carmine',\n",
       " ' Carmita',\n",
       " ' Carmon',\n",
       " ' Caro',\n",
       " ' Carol',\n",
       " ' Carol-Jean',\n",
       " ' Carola',\n",
       " ' Carolan',\n",
       " ' Carolann',\n",
       " ' Carole',\n",
       " ' Carolee',\n",
       " ' Caroleen',\n",
       " ' Carolie',\n",
       " ' Carolin',\n",
       " ' Carolina',\n",
       " ' Caroline',\n",
       " ' Caroljean',\n",
       " ' Carolyn',\n",
       " ' Carolyne',\n",
       " ' Carolynn',\n",
       " ' Caron',\n",
       " ' Carree',\n",
       " ' Carri',\n",
       " ' Carrie',\n",
       " ' Carrissa',\n",
       " ' Carrol',\n",
       " ' Carroll',\n",
       " ' Carry',\n",
       " ' Cary',\n",
       " ' Caryl',\n",
       " ' Caryn',\n",
       " ' Casandra',\n",
       " ' Casey',\n",
       " ' Casi',\n",
       " ' Casia',\n",
       " ' Casie',\n",
       " ' Cass',\n",
       " ' Cassandra',\n",
       " ' Cassandre',\n",
       " ' Cassandry',\n",
       " ' Cassaundra',\n",
       " ' Cassey',\n",
       " ' Cassi',\n",
       " ' Cassie',\n",
       " ' Cassondra',\n",
       " ' Cassy',\n",
       " ' Cat',\n",
       " ' Catarina',\n",
       " ' Cate',\n",
       " ' Caterina',\n",
       " ' Catha',\n",
       " ' Catharina',\n",
       " ' Catharine',\n",
       " ' Cathe',\n",
       " ' Cathee',\n",
       " ' Catherin',\n",
       " ' Catherina',\n",
       " ' Catherine',\n",
       " ' Cathi',\n",
       " ' Cathie',\n",
       " ' Cathleen',\n",
       " ' Cathlene',\n",
       " ' Cathrin',\n",
       " ' Cathrine',\n",
       " ' Cathryn',\n",
       " ' Cathy',\n",
       " ' Cathyleen',\n",
       " ' Cati',\n",
       " ' Catie',\n",
       " ' Catina',\n",
       " ' Catlaina',\n",
       " ' Catlee',\n",
       " ' Catlin',\n",
       " ' Catrina',\n",
       " ' Catriona',\n",
       " ' Caty',\n",
       " ' Cayla',\n",
       " ' Cecelia',\n",
       " ' Cecil',\n",
       " ' Cecile',\n",
       " ' Ceciley',\n",
       " ' Cecilia',\n",
       " ' Cecilla',\n",
       " ' Cecily',\n",
       " ' Ceil',\n",
       " ' Cele',\n",
       " ' Celene',\n",
       " ' Celesta',\n",
       " ' Celeste',\n",
       " ' Celestia',\n",
       " ' Celestina',\n",
       " ' Celestine',\n",
       " ' Celestyn',\n",
       " ' Celestyna',\n",
       " ' Celia',\n",
       " ' Celie',\n",
       " ' Celina',\n",
       " ' Celinda',\n",
       " ' Celine',\n",
       " ' Celinka',\n",
       " ' Celisse',\n",
       " ' Celle',\n",
       " ' Cesya',\n",
       " ' Chad',\n",
       " ' Chanda',\n",
       " ' Chandal',\n",
       " ' Chandra',\n",
       " ' Channa',\n",
       " ' Chantal',\n",
       " ' Chantalle',\n",
       " ' Charil',\n",
       " ' Charin',\n",
       " ' Charis',\n",
       " ' Charissa',\n",
       " ' Charisse',\n",
       " ' Charita',\n",
       " ' Charity',\n",
       " ' Charla',\n",
       " ' Charlean',\n",
       " ' Charleen',\n",
       " ' Charlena',\n",
       " ' Charlene',\n",
       " ' Charline',\n",
       " ' Charlot',\n",
       " ' Charlott',\n",
       " ' Charlotta',\n",
       " ' Charlotte',\n",
       " ' Charmain',\n",
       " ' Charmaine',\n",
       " ' Charmane',\n",
       " ' Charmian',\n",
       " ' Charmine',\n",
       " ' Charmion',\n",
       " ' Charo',\n",
       " ' Charyl',\n",
       " ' Chastity',\n",
       " ' Chelsae',\n",
       " ' Chelsea',\n",
       " ' Chelsey',\n",
       " ' Chelsie',\n",
       " ' Chelsy',\n",
       " ' Cher',\n",
       " ' Chere',\n",
       " ' Cherey',\n",
       " ' Cheri',\n",
       " ' Cherianne',\n",
       " ' Cherice',\n",
       " ' Cherida',\n",
       " ' Cherie',\n",
       " ' Cherilyn',\n",
       " ' Cherilynn',\n",
       " ' Cherin',\n",
       " ' Cherise',\n",
       " ' Cherish',\n",
       " ' Cherlyn',\n",
       " ' Cherri',\n",
       " ' Cherrita',\n",
       " ' Cherry',\n",
       " ' Chery',\n",
       " ' Cherye',\n",
       " ' Cheryl',\n",
       " ' Cheslie',\n",
       " ' Chiarra',\n",
       " ' Chickie',\n",
       " ' Chicky',\n",
       " ' Chiquita',\n",
       " ' Chloe',\n",
       " ' Chloette',\n",
       " ' Chloris',\n",
       " ' Chris',\n",
       " ' Chriss',\n",
       " ' Chrissa',\n",
       " ' Chrissie',\n",
       " ' Chrissy',\n",
       " ' Christa',\n",
       " ' Christabel',\n",
       " ' Christabella',\n",
       " ' Christabelle',\n",
       " ' Christal',\n",
       " ' Christalle',\n",
       " ' Christan',\n",
       " ' Christean',\n",
       " ' Christel',\n",
       " ' Christen',\n",
       " ' Christi',\n",
       " ' Christian',\n",
       " ' Christiana',\n",
       " ' Christiane',\n",
       " ' Christie',\n",
       " ' Christin',\n",
       " ' Christina',\n",
       " ' Christine',\n",
       " ' Christy',\n",
       " ' Christyna',\n",
       " ' Chrysa',\n",
       " ' Chrysler',\n",
       " ' Chrystal',\n",
       " ' Chryste',\n",
       " ' Chrystel',\n",
       " ' Ciara',\n",
       " ' Cicely',\n",
       " ' Cicily',\n",
       " ' Ciel',\n",
       " ' Cilka',\n",
       " ' Cinda',\n",
       " ' Cindee',\n",
       " ' Cindelyn',\n",
       " ' Cinderella',\n",
       " ' Cindi',\n",
       " ' Cindie',\n",
       " ' Cindra',\n",
       " ' Cindy',\n",
       " ' Cinnamon',\n",
       " ' Cissie',\n",
       " ' Cissy',\n",
       " ' Clair',\n",
       " ' Claire',\n",
       " ' Clara',\n",
       " ' Clarabelle',\n",
       " ' Clare',\n",
       " ...]"
      ]
     },
     "execution_count": 9,
     "metadata": {
      "tags": []
     },
     "output_type": "execute_result"
    }
   ],
   "source": [
    "names"
   ]
  },
  {
   "cell_type": "code",
   "execution_count": 10,
   "metadata": {
    "colab": {
     "base_uri": "https://localhost:8080/",
     "height": 137
    },
    "id": "t_J-UJLehzbN",
    "outputId": "efe44b1f-03db-46cc-df19-969e38de0288"
   },
   "outputs": [
    {
     "data": {
      "application/vnd.google.colaboratory.intrinsic+json": {
       "type": "string"
      },
      "text/plain": [
       "\" Abagael Abagail Abbe Abbey Abbi Abbie Abby Abigael Abigail Abigale Abra Acacia Ada Adah Adaline Adara Addie Addis Adel Adela Adelaide Adele Adelice Adelina Adelind Adeline Adella Adelle Adena Adey Adi Adiana Adina Adora Adore Adoree Adorne Adrea Adria Adriaens Adrian Adriana Adriane Adrianna Adrianne Adrien Adriena Adrienne Aeriel Aeriela Aeriell Ag Agace Agata Agatha Agathe Aggi Aggie Aggy Agna Agnella Agnes Agnese Agnesse Agneta Agnola Agretha Aida Aidan Aigneis Aila Aile Ailee Aileen Ailene Ailey Aili Ailina Ailyn Aime Aimee Aimil Aina Aindrea Ainslee Ainsley Ainslie Ajay Alaine Alameda Alana Alanah Alane Alanna Alayne Alberta Albertina Albertine Albina Alecia Aleda Aleece Aleecia Aleen Alejandra Alejandrina Alena Alene Alessandra Aleta Alethea Alex Alexa Alexandra Alexandrina Alexi Alexia Alexina Alexine Alexis Alfie Alfreda Ali Alia Alica Alice Alicea Alicia Alida Alidia Alina Aline Alis Alisa Alisha Alison Alissa Alisun Alix Aliza Alla Alleen Allegra Allene Alli Allianora Allie Allina Allis Allison Allissa Allsun Ally Allyce Allyn Allys Allyson Alma Almeda Almeria Almeta Almira Almire Aloise Aloisia Aloysia Alpa Alta Althea Alvera Alvina Alvinia Alvira Alyce Alyda Alys Alysa Alyse Alysia Alyson Alyss Alyssa Amabel Amabelle Amalea Amalee Amaleta Amalia Amalie Amalita Amalle Amanda Amandi Amandie Amandy Amara Amargo Amata Amber Amberly Ambrosia Ambur Ame Amelia Amelie Amelina Ameline Amelita Ami Amie Amity Ammamaria Amy Ana Anabel Anabella Anabelle Anais Analiese Analise Anallese Anallise Anastasia Anastasie Anastassia Anatola Andee Andi Andie Andra Andrea Andreana Andree Andrei Andria Andriana Andriette Andromache Andromeda Andy Anestassia Anet Anett Anetta Anette Ange Angel Angela Angele Angelia Angelica Angelika Angelina Angeline Angelique Angelita Angelle Angie Angil Angy Ania Anica Anissa Anita Anitra Anja Anjanette Anjela Ann Ann-Mari Ann-Marie Anna Anna-Diana Anna-Diane Anna-Maria Annabal Annabel Annabela Annabell Annabella Annabelle Annadiana Annadiane Annalee Annalena Annaliese Annalisa Annalise Annalyse Annamari Annamaria Annamarie Anne Anne-Corinne Anne-Mar Anne-Marie Annecorinne Anneliese Annelise Annemarie Annetta Annette Anni Annice Annie Annissa Annmaria Annmarie Annnora Annora Anny Anselma Ansley Anstice Anthe Anthea Anthia Antoinette Antonella Antonetta Antonia Antonie Antonietta Antonina Anya Aphrodite Appolonia April Aprilette Ara Arabel Arabela Arabele Arabella Arabelle Arda Ardath Ardeen Ardelia Ardelis Ardella Ardelle Arden Ardene Ardenia Ardine Ardis Ardith Ardra Ardyce Ardys Ardyth Aretha Ariadne Ariana Arianne Aridatha Ariel Ariela Ariella Arielle Arlana Arlee Arleen Arlen Arlena Arlene Arleta Arlette Arleyne Arlie Arliene Arlina Arlinda Arline Arly Arlyn Arlyne Aryn Ashely Ashlee Ashleigh Ashlen Ashley Ashli Ashlie Ashly Asia Astra Astrid Astrix Atalanta Athena Athene Atlanta Atlante Auberta Aubine Aubree Aubrette Aubrey Aubrie Aubry Audi Audie Audra Audre Audrey Audrie Audry Audrye Audy Augusta Auguste Augustina Augustine Aura Aurea Aurel Aurelea Aurelia Aurelie Auria Aurie Aurilia Aurlie Auroora Aurora Aurore Austin Austina Austine Ava Aveline Averil Averyl Avie Avis Aviva Avivah Avril Avrit Ayn Bab Babara Babette Babita Babs Bambi Bambie Bamby Barb Barbabra Barbara Barbara-Anne Barbaraanne Barbe Barbee Barbette Barbey Barbi Barbie Barbra Barby Bari Barrie Barry Basia Bathsheba Batsheva Bea Beatrice Beatrisa Beatrix Beatriz Beau Bebe Becca Becka Becki Beckie Becky Bee Beilul Beitris Bekki Bel Belia Belicia Belinda Belita Bell Bella Bellamy Bellanca Belle Bellina Belva Belvia Bendite Benedetta Benedicta Benedikta Benetta Benita Benni Bennie Benny Benoite Berenice Beret Berget Berna Bernadene Bernadette Bernadina Bernadine Bernardina Bernardine Bernelle Bernete Bernetta Bernette Berni Bernice Bernie Bernita Berny Berri Berrie Berry Bert Berta Berte Bertha Berthe Berti Bertie Bertina Bertine Berty Beryl Beryle Bess Bessie Bessy Beth Bethanne Bethany Bethena Bethina Betsey Betsy Betta Bette Bette-Ann Betteann Betteanne Betti Bettie Bettina Bettine Betty Bettye Beulah Bev Beverie Beverlee Beverlie Beverly Bevvy Bianca Bianka Biddy Bidget Bill Billi Billie Billy Binni Binnie Binny Bird Birdie Birgit Birgitta Blair Blaire Blake Blakelee Blakeley Blanca Blanch Blancha Blanche Blinni Blinnie Blinny Bliss Blisse Blithe Blondell Blondelle Blondie Blondy Blythe Bo Bobbette Bobbi Bobbie Bobby Bobette Bobina Bobine Bobinette Bonita Bonnee Bonni Bonnie Bonny Brana Brandais Brande Brandea Brandi Brandice Brandie Brandise Brandy Brea Breanne Brear Bree Breena Bren Brena Brenda Brenn Brenna Brett Bria Briana Brianna Brianne Bride Bridget Bridgett Bridgette Bridie Brier Brietta Brigid Brigida Brigit Brigitta Brigitte Brina Briney Briny Brit Brita Britaney Britani Briteny Britney Britni Britt Britta Brittan Brittany Britte Brittney Brook Brooke Brooks Brunella Brunhilda Brunhilde Bryana Bryn Bryna Brynn Brynna Brynne Buffy Bunni Bunnie Bunny Burta Cabrina Cacilia Cacilie Caitlin Caitrin Cal Calida Calla Calley Calli Callida Callie Cally Calypso Cam Camala Camel Camella Camellia Cameo Cami Camila Camile Camilla Camille Cammi Cammie Cammy Canada Candace Candi Candice Candida Candide Candie Candis Candra Candy Cappella Caprice Cara Caralie Caren Carena Caresa Caressa Caresse Carey Cari Caria Carie Caril Carilyn Carin Carina Carine Cariotta Carissa Carita Caritta Carla Carlee Carleen Carlen Carlena Carlene Carley Carli Carlie Carlin Carlina Carline Carlisle Carlita Carlota Carlotta Carly Carlye Carlyn Carlynn Carlynne Carma Carmel Carmela Carmelia Carmelina Carmelita Carmella Carmelle Carmen Carmina Carmine Carmita Carmon Caro Carol Carol-Jean Carola Carolan Carolann Carole Carolee Caroleen Carolie Carolin Carolina Caroline Caroljean Carolyn Carolyne Carolynn Caron Carree Carri Carrie Carrissa Carrol Carroll Carry Cary Caryl Caryn Casandra Casey Casi Casia Casie Cass Cassandra Cassandre Cassandry Cassaundra Cassey Cassi Cassie Cassondra Cassy Cat Catarina Cate Caterina Catha Catharina Catharine Cathe Cathee Catherin Catherina Catherine Cathi Cathie Cathleen Cathlene Cathrin Cathrine Cathryn Cathy Cathyleen Cati Catie Catina Catlaina Catlee Catlin Catrina Catriona Caty Cayla Cecelia Cecil Cecile Ceciley Cecilia Cecilla Cecily Ceil Cele Celene Celesta Celeste Celestia Celestina Celestine Celestyn Celestyna Celia Celie Celina Celinda Celine Celinka Celisse Celle Cesya Chad Chanda Chandal Chandra Channa Chantal Chantalle Charil Charin Charis Charissa Charisse Charita Charity Charla Charlean Charleen Charlena Charlene Charline Charlot Charlott Charlotta Charlotte Charmain Charmaine Charmane Charmian Charmine Charmion Charo Charyl Chastity Chelsae Chelsea Chelsey Chelsie Chelsy Cher Chere Cherey Cheri Cherianne Cherice Cherida Cherie Cherilyn Cherilynn Cherin Cherise Cherish Cherlyn Cherri Cherrita Cherry Chery Cherye Cheryl Cheslie Chiarra Chickie Chicky Chiquita Chloe Chloette Chloris Chris Chriss Chrissa Chrissie Chrissy Christa Christabel Christabella Christabelle Christal Christalle Christan Christean Christel Christen Christi Christian Christiana Christiane Christie Christin Christina Christine Christy Christyna Chrysa Chrysler Chrystal Chryste Chrystel Ciara Cicely Cicily Ciel Cilka Cinda Cindee Cindelyn Cinderella Cindi Cindie Cindra Cindy Cinnamon Cissie Cissy Clair Claire Clara Clarabelle Clare Claresta Clareta Claretta Clarette Clarey Clari Claribel Clarice Clarie Clarinda Clarine Clarisa Clarissa Clarisse Clarita Clary Claude Claudelle Claudetta Claudette Claudia Claudie Claudina Claudine Clea Clem Clemence Clementia Clementina Clementine Clemmie Clemmy Cleo Cleopatra Clerissa Cleva Clio Clo Cloe Cloris Clotilda Clovis Codee Codi Codie Cody Coleen Colene Coletta Colette Colleen Collete Collette Collie Colline Colly Con Concettina Conchita Concordia Conney Conni Connie Conny Consolata Constance Constancia Constancy Constanta Constantia Constantina Constantine Consuela Consuelo Cookie Cora Corabel Corabella Corabelle Coral Coralie Coraline Coralyn Cordelia Cordelie Cordey Cordie Cordula Cordy Coreen Corella Corena Corenda Corene Coretta Corette Corey Cori Corie Corilla Corina Corine Corinna Corinne Coriss Corissa Corliss Corly Cornela Cornelia Cornelle Cornie Corny Correna Correy Corri Corrianne Corrie Corrina Corrine Corrinne Corry Cortney Cory Cosetta Cosette Courtenay Courtney Cresa Cris Crissie Crissy Crista Cristabel Cristal Cristen Cristi Cristie Cristin Cristina Cristine Cristionna Cristy Crysta Crystal Crystie Cyb Cybal Cybel Cybelle Cybil Cybill Cyndi Cyndy Cynthea Cynthia Cynthie Cynthy Dacey Dacia Dacie Dacy Dael Daffi Daffie Daffy Dafna Dagmar Dahlia Daile Daisey Daisi Daisie Daisy Dale Dalenna Dalia Dalila Dallas Daloris Damara Damaris Damita Dana Danell Danella Danelle Danette Dani Dania Danica Danice Daniel Daniela Daniele Daniella Danielle Danika Danila Danit Danita Danna Danni Dannie Danny Dannye Danya Danyelle Danyette Daphene Daphna Daphne Dara Darb Darbie Darby Darcee Darcey Darci Darcie Darcy Darda Dareen Darell Darelle Dari Daria Darice Darla Darleen Darlene Darline Darryl Darsey Darsie Darya Daryl Daryn Dasha Dasi Dasie Dasya Datha Daune Daveen Daveta Davida Davina Davine Davita Dawn Dawna Dayle Dayna Dea Deana Deane Deanna Deanne Deb Debbi Debbie Debbra Debby Debee Debera Debi Debor Debora Deborah Debra Dede Dedie Dedra Dee Dee Dee Deeann Deeanne Deedee Deena Deerdre Dehlia Deidre Deina Deirdre Del Dela Delaney Delcina Delcine Delia Delila Delilah Delinda Dell Della Delly Delora Delores Deloria Deloris Delphina Delphine Delphinia Demeter Demetra Demetria Demetris Dena Deni Denice Denise Denna Denni Dennie Denny Deny Denys Denyse Deonne Desaree Desdemona Desirae Desiree Desiri Deva Devan Devi Devin Devina Devinne Devon Devondra Devonna Devonne Devora Dew Di Diahann Diamond Dian Diana Diandra Diane Diane-Marie Dianemarie Diann Dianna Dianne Diannne Didi Dido Diena Dierdre Dina Dinah Dinnie Dinny Dion Dione Dionis Dionne Dita Dix Dixie Dode Dodi Dodie Dody Doe Doll Dolley Dolli Dollie Dolly Dolora Dolores Dolorita Doloritas Dominica Dominique Dona Donella Donelle Donetta Donia Donica Donielle Donna Donnajean Donnamarie Donni Donnie Donny Dora Doralia Doralin Doralyn Doralynn Doralynne Dorcas Dore Doreen Dorelia Dorella Dorelle Dorena Dorene Doretta Dorette Dorey Dori Doria Dorian Dorice Dorie Dorine Doris Dorisa Dorise Dorit Dorita Doro Dorolice Dorolisa Dorotea Doroteya Dorothea Dorothee Dorothy Dorree Dorri Dorrie Dorris Dorry Dorthea Dorthy Dory Dosi Dot Doti Dotti Dottie Dotty Dove Drea Drew Dulce Dulcea Dulci Dulcia Dulciana Dulcie Dulcine Dulcinea Dulcy Dulsea Dusty Dyan Dyana Dyane Dyann Dyanna Dyanne Dyna Dynah E'Lane Eada Eadie Eadith Ealasaid Eartha Easter Eba Ebba Ebonee Ebony Eda Eddi Eddie Eddy Ede Edee Edeline Eden Edi Edie Edin Edita Edith Editha Edithe Ediva Edna Edwina Edy Edyth Edythe Effie Eileen Eilis Eimile Eirena Ekaterina Elaina Elaine Elana Elane Elayne Elberta Elbertina Elbertine Eleanor Eleanora Eleanore Electra Elena Elene Eleni Elenore Eleonora Eleonore Elfie Elfreda Elfrida Elfrieda Elga Elianora Elianore Elicia Elie Elinor Elinore Elisa Elisabet Elisabeth Elisabetta Elise Elisha Elissa Elita Eliza Elizabet Elizabeth Elka Elke Ella Elladine Elle Ellen Ellene Ellette Elli Ellie Ellissa Elly Ellyn Ellynn Elmira Elna Elnora Elnore Eloisa Eloise Elonore Elora Elsa Elsbeth Else Elsey Elsi Elsie Elsinore Elspeth Elsy Elva Elvera Elvina Elvira Elwina Elwira Elyn Elyse Elysee Elysha Elysia Elyssa Em Ema Emalee Emalia Emanuela Emelda Emelia Emelina Emeline Emelita Emelyne Emera Emilee Emili Emilia Emilie Emiline Emily Emlyn Emlynn Emlynne Emma Emmalee Emmaline Emmalyn Emmalynn Emmalynne Emmeline Emmey Emmi Emmie Emmy Emmye Emogene Emyle Emylee Endora Engracia Enid Enrica Enrichetta Enrika Enriqueta Enya Eolanda Eolande Eran Erda Erena Erica Ericha Ericka Erika Erin Erina Erinn Erinna Erma Ermengarde Ermentrude Ermina Erminia Erminie Erna Ernaline Ernesta Ernestine Ertha Eryn Esma Esmaria Esme Esmeralda Esmerelda Essa Essie Essy Esta Estel Estele Estell Estella Estelle Ester Esther Estrella Estrellita Ethel Ethelda Ethelin Ethelind Etheline Ethelyn Ethyl Etta Etti Ettie Etty Eudora Eugenia Eugenie Eugine Eula Eulalie Eunice Euphemia Eustacia Eva Evaleen Evangelia Evangelin Evangelina Evangeline Evania Evanne Eve Eveleen Evelina Eveline Evelyn Evette Evey Evie Evita Evonne Evvie Evvy Evy Eyde Eydie Fabrianne Fabrice Fae Faina Faith Fallon Fan Fanchette Fanchon Fancie Fancy Fanechka Fania Fanni Fannie Fanny Fanya Fara Farah Farand Farica Farra Farrah Farrand Fatima Faun Faunie Faustina Faustine Fawn Fawna Fawne Fawnia Fay Faydra Faye Fayette Fayina Fayre Fayth Faythe Federica Fedora Felecia Felicdad Felice Felicia Felicity Felicle Felipa Felisha Felita Feliza Fenelia Feodora Ferdinanda Ferdinande Fern Fernanda Fernande Fernandina Ferne Fey Fiann Fianna Fidela Fidelia Fidelity Fifi Fifine Filia Filide Filippa Fina Fiona Fionna Fionnula Fiorenze Fleur Fleurette Flo Flor Flora Florance Flore Florella Florence Florencia Florentia Florenza Florette Flori Floria Florice Florida Florie Florina Florinda Floris Florri Florrie Florry Flory Flossi Flossie Flossy Flower Fortuna Fortune Fran France Francene Frances Francesca Francesmary Francine Francis Francisca Franciska Francoise Francyne Frank Frankie Franky Franni Frannie Franny Frayda Fred Freda Freddi Freddie Freddy Fredelia Frederica Fredericka Fredi Fredia Fredra Fredrika Freida Frieda Friederike Fulvia Gabbey Gabbi Gabbie Gabey Gabi Gabie Gabriel Gabriela Gabriell Gabriella Gabrielle Gabriellia Gabrila Gaby Gae Gael Gail Gale Gale  Galina Garland Garnet Garnette Gates Gavra Gavrielle Gay Gayla Gayle Gayleen Gaylene Gaynor Gelya Gen Gena Gene Geneva Genevieve Genevra Genia Genna Genni Gennie Gennifer Genny Genovera Genvieve George Georgeanna Georgeanne Georgena Georgeta Georgetta Georgette Georgia Georgiamay Georgiana Georgianna Georgianne Georgie Georgina Georgine Gera Geralda Geraldina Geraldine Gerda Gerhardine Geri Gerianna Gerianne Gerladina Germain Germaine Germana Gerri Gerrie Gerrilee Gerry Gert Gerta Gerti Gertie Gertrud Gertruda Gertrude Gertrudis Gerty Giacinta Giana Gianina Gianna Gigi Gilberta Gilberte Gilbertina Gilbertine Gilda Gill Gillan Gilli Gillian Gillie Gilligan Gilly Gina Ginelle Ginevra Ginger Ginni Ginnie Ginnifer Ginny Giorgia Giovanna Gipsy Giralda Gisela Gisele Gisella Giselle Gizela Glad Gladi Gladis Gladys Gleda Glen Glenda Glenine Glenn Glenna Glennie Glennis Glori Gloria Gloriana Gloriane Glorianna Glory Glyn Glynda Glynis Glynnis Godiva Golda Goldarina Goldi Goldia Goldie Goldina Goldy Grace Gracia Gracie Grata Gratia Gratiana Gray Grayce Grazia Gredel Greer Greta Gretal Gretchen Grete Gretel Grethel Gretna Gretta Grier Griselda Grissel Guendolen Guenevere Guenna Guglielma Gui Guillema Guillemette Guinevere Guinna Gunilla Gunvor Gus Gusella Gussi Gussie Gussy Gusta Gusti Gustie Gusty Gwen Gwendolen Gwendolin Gwendolyn Gweneth Gwenette Gwenn Gwenneth Gwenni Gwennie Gwenny Gwenora Gwenore Gwyn Gwyneth Gwynne Gypsy Hadria Hailee Haily Haleigh Halette Haley Hali Halie Halimeda Halley Halli Hallie Hally Hana Hanna Hannah Hanni Hannibal Hannie Hannis Hanny Happy Harlene Harley Harli Harlie Harmonia Harmonie Harmony Harri Harrie Harriet Harriett Harrietta Harriette Harriot Harriott Hatti Hattie Hatty Havivah Hayley Hazel Heath Heather Heda Hedda Heddi Heddie Hedi Hedvig Hedwig Hedy Heida Heide Heidi Heidie Helaina Helaine Helen Helen-Elizabeth Helena Helene Helga Helge Helise Hellene Helli Heloise Helsa Helyn Hendrika Henka Henrie Henrieta Henrietta Henriette Henryetta Hephzibah Hermia Hermina Hermine Herminia Hermione Herta Hertha Hester Hesther Hestia Hetti Hettie Hetty Hilarie Hilary Hilda Hildagard Hildagarde Hilde Hildegaard Hildegarde Hildy Hillary Hilliary Hinda Holley Holli Hollie Holly Holly-Anne Hollyanne Honey Honor Honoria Hope Horatia Hortense Hortensia Hulda Hyacinth Hyacintha Hyacinthe Hyacinthia Hyacinthie Hynda Ianthe Ibbie Ibby Ida Idalia Idalina Idaline Idell Idelle Idette Ike Ikey Ilana Ileana Ileane Ilene Ilise Ilka Illa Ilona Ilsa Ilse Ilysa Ilyse Ilyssa Imelda Imogen Imogene Imojean Ina Inci Indira Ines Inesita Inessa Inez Inga Ingaberg Ingaborg Inge Ingeberg Ingeborg Inger Ingrid Ingunna Inna Ioana Iolande Iolanthe Iona Iormina Ira Irena Irene Irina Iris Irita Irma Isa Isabeau Isabel Isabelita Isabella Isabelle Isador Isadora Isadore Isahella Iseabal Isidora Isis Isobel Issi Issie Issy Ivett Ivette Ivie Ivonne Ivory Ivy Izabel Izzi Jacenta Jacinda Jacinta Jacintha Jacinthe Jackelyn Jacki Jackie Jacklin Jacklyn Jackquelin Jackqueline Jacky Jaclin Jaclyn Jacquelin Jacqueline Jacquelyn Jacquelynn Jacquenetta Jacquenette Jacquetta Jacquette Jacqui Jacquie Jacynth Jada Jade Jaime Jaimie Jaine Jaleh Jami Jamie Jamima Jammie Jan Jana Janaya Janaye Jandy Jane Janean Janeczka Janeen Janel Janela Janella Janelle Janene Janenna Janessa Janet Janeta Janetta Janette Janeva Janey Jania Janice Janie Janifer Janina Janine Janis Janith Janka Janna Jannel Jannelle Janot Jany Jaquelin Jaquelyn Jaquenetta Jaquenette Jaquith Jasmin Jasmina Jasmine Jayme Jaymee Jayne Jaynell Jazmin Jean Jeana Jeane Jeanelle Jeanette Jeanie Jeanine Jeanna Jeanne Jeannette Jeannie Jeannine Jehanna Jelene Jemie Jemima Jemimah Jemmie Jemmy Jen Jena Jenda Jenelle Jenette Jeni Jenica Jeniece Jenifer Jeniffer Jenilee Jenine Jenn Jenna Jennee Jennette Jenni Jennica Jennie Jennifer Jennilee Jennine Jenny Jeraldine Jeralee Jere Jeri Jermaine Jerrie Jerrilee Jerrilyn Jerrine Jerry Jerrylee Jess Jessa Jessalin Jessalyn Jessamine Jessamyn Jesse Jesselyn Jessi Jessica Jessie Jessika Jessy Jewel Jewell Jewelle Jill Jillana Jillane Jillayne Jilleen Jillene Jilli Jillian Jillie Jilly Jinny Jo Jo Ann Jo-Ann Jo-Anne JoAnn JoAnne Joan Joana Joane Joanie Joann Joanna Joanne Joannes Jobey Jobi Jobie Jobina Joby Jobye Jobyna Jocelin Joceline Jocelyn Jocelyne Jodee Jodi Jodie Jody Joela Joelie Joell Joella Joelle Joellen Joelly Joellyn Joelynn Joete Joey Johanna Johannah Johnette Johnna Joice Jojo Jolee Joleen Jolene Joletta Joli Jolie Joline Joly Jolyn Jolynn Jonell Joni Jonie Jonis Jordain Jordan Jordana Jordanna Jorey Jori Jorie Jorrie Jorry Joscelin Josee Josefa Josefina Joselyn Josepha Josephina Josephine Josey Josi Josie Joslyn Josselyn Josy Jourdan Joy Joya Joyan Joyann Joyce Joycelin Joye Joyous Juana Juanita Jude Judi Judie Judith Juditha Judy Judye Julee Juli Julia Juliana Juliane Juliann Julianna Julianne Julie Julienne Juliet Julieta Julietta Juliette Julina Juline Julissa Julita June Junette Junia Junie Junina Justin Justina Justine Jyoti Kacey Kacie Kacy Kai Kaia Kaila Kaile Kailey Kaitlin Kaitlyn Kaitlynn Kaja Kakalina Kala Kaleena Kali Kalie Kalila Kalina Kalinda Kalindi Kalli Kally Kameko Kamila Kamilah Kamillah Kandace Kandy Kania Kanya Kara Kara-Lynn Karalee Karalynn Kare Karee Karel Karen Karena Kari Karia Karie Karil Karilynn Karin Karina Karine Kariotta Karisa Karissa Karita Karla Karlee Karleen Karlen Karlene Karlie Karlotta Karlotte Karly Karlyn Karmen Karna Karol Karola Karole Karolina Karoline Karoly Karon Karrah Karrie Karry Kary Karyl Karylin Karyn Kasey Kass Kassandra Kassey Kassi Kassia Kassie Kaster Kat Kata Katalin Kate Katee Katerina Katerine Katey Kath Katha Katharina Katharine Katharyn Kathe Katheleen Katherina Katherine Katheryn Kathi Kathie Kathleen Kathlene Kathlin Kathrine Kathryn Kathryne Kathy Kathye Kati Katie Katina Katine Katinka Katleen Katlin Katrina Katrine Katrinka Katti Kattie Katuscha Katusha Katy Katya Kay Kaycee Kaye Kayla Kayle Kaylee Kayley Kaylil Kaylyn Kee Keeley Keelia Keely Kelcey Kelci Kelcie Kelcy Kelila Kellen Kelley Kelli Kellia Kellie Kellina Kellsie Kelly Kellyann Kelsey Kelsi Kelsy Kendra Kendre Kenna Keren Keri Keriann Kerianne Kerri Kerrie Kerrill Kerrin Kerry Kerstin Kesley Keslie Kessia Kessiah Ketti Kettie Ketty Kevina Kevyn Ki Kia Kiah Kial Kiele Kiersten Kikelia Kiley Kim Kimberlee Kimberley Kimberli Kimberly Kimberlyn Kimbra Kimmi Kimmie Kimmy Kinna Kip Kipp Kippie Kippy Kira Kirbee Kirbie Kirby Kiri Kirsten Kirsteni Kirsti Kirstie Kirstin Kirstyn Kissee Kissiah Kissie Kit Kitti Kittie Kitty Kizzee Kizzie Klara Klarika Klarrisa Konstance Konstanze Koo Kora Koral Koralle Kordula Kore Korella Koren Koressa Kori Korie Korney Korrie Korry Kourtney Kris Krissie Krissy Krista Kristal Kristan Kriste Kristel Kristen Kristi Kristien Kristin Kristina Kristine Kristy Kristyn Krysta Krystal Krystalle Krystle Krystyna Kyla Kyle Kylen Kylie Kylila Kylynn Kym Kynthia Kyrstin La Lacee Lacey Lacie Lacy Ladonna Laetitia Laila Laina Lainey Lamb Lana Lane Lanette Laney Lani Lanie Lanita Lanna Lanni Lanny Lara Laraine Lari Larina Larine Larisa Larissa Lark Laryssa Latashia Latia Latisha Latrena Latrina Laura Lauraine Laural Lauralee Laure Lauree Laureen Laurel Laurella Lauren Laurena Laurene Lauretta Laurette Lauri Laurianne Laurice Laurie Lauryn Lavena Laverna Laverne Lavina Lavinia Lavinie Layla Layne Layney Lea Leah Leandra Leann Leanna Leanne Leanor Leanora Lebbie Leda Lee LeeAnn Leeann Leeanne Leela Leelah Leena Leesa Leese Legra Leia Leiah Leigh Leigha Leila Leilah Leisha Lela Lelah Leland Lelia Lena Lenee Lenette Lenka Lenna Lenora Lenore Leodora Leoine Leola Leoline Leona Leonanie Leone Leonelle Leonie Leonora Leonore Leontine Leontyne Leora Leorah Leshia Lesley Lesli Leslie Lesly Lesya Leta Lethia Leticia Letisha Letitia Letta Letti Lettie Letty Leyla Lezlie Lia Lian Liana Liane Lianna Lianne Lib Libbey Libbi Libbie Libby Licha Lida Lidia Lil Lila Lilah Lilas Lilia Lilian Liliane Lilias Lilith Lilla Lilli Lillian Lillis Lilllie Lilly Lily Lilyan Lin Lina Lind Linda Lindi Lindie Lindsay Lindsey Lindsy Lindy Linea Linell Linet Linette Linn Linnea Linnell Linnet Linnie Linzy Liora Liorah Lira Lisa Lisabeth Lisandra Lisbeth Lise Lisetta Lisette Lisha Lishe Lissa Lissi Lissie Lissy Lita Liuka Livia Liz Liza Lizabeth Lizbeth Lizette Lizzie Lizzy Loella Lois Loise Lola Lolande Loleta Lolita Lolly Lona Lonee Loni Lonna Lonni Lonnie Lora Lorain Loraine Loralee Loralie Loralyn Loree Loreen Lorelei Lorelle Loren Lorena Lorene Lorenza Loretta Lorettalorna Lorette Lori Loria Lorianna Lorianne Lorie Lorilee Lorilyn Lorinda Lorine Lorita Lorna Lorne Lorraine Lorrayne Lorri Lorrie Lorrin Lorry Lory Lotta Lotte Lotti Lottie Lotty Lou Louella Louisa Louise Louisette Love Luana Luanna Luce Luci Lucia Luciana Lucie Lucienne Lucila Lucilia Lucille Lucina Lucinda Lucine Lucita Lucky Lucretia Lucy Luella Luelle Luisa Luise Lula Lulita Lulu Luna Lura Lurette Lurleen Lurlene Lurline Lusa Lust Lyda Lydia Lydie Lyn Lynda Lynde Lyndel Lyndell Lyndsay Lyndsey Lyndsie Lyndy Lynea Lynelle Lynett Lynette Lynn Lynna Lynne Lynnea Lynnell Lynnelle Lynnet Lynnett Lynnette Lynsey Lysandra Lyssa Mab Mabel Mabelle Mable Mada Madalena Madalyn Maddalena Maddi Maddie Maddy Madel Madelaine Madeleine Madelena Madelene Madelin Madelina Madeline Madella Madelle Madelon Madelyn Madge Madlen Madlin Madona Madonna Mady Mae Maegan Mag Magda Magdaia Magdalen Magdalena Magdalene Maggee Maggi Maggie Maggy Magna Mahala Mahalia Maia Maible Maiga Mair Maire Mairead Maisey Maisie Mala Malanie Malcah Malena Malia Malina Malinda Malinde Malissa Malissia Malka Malkah Mallissa Mallorie Mallory Malorie Malory Malva Malvina Malynda Mame Mamie Manda Mandi Mandie Mandy Manon Manya Mara Marabel Marcela Marcelia Marcella Marcelle Marcellina Marcelline Marchelle Marci Marcia Marcie Marcile Marcille Marcy Mareah Maren Marena Maressa Marga Margalit Margalo Margaret Margareta Margarete Margaretha Margarethe Margaretta Margarette Margarita Margaux Marge Margeaux Margery Marget Margette Margi Margie Margit Marglerite Margo Margot Margret Marguerite Margurite Margy Mari Maria Mariam Marian Mariana Mariann Marianna Marianne Maribel Maribelle Maribeth Marice Maridel Marie Marie-Ann Marie-Jeanne Marieann Mariejeanne Mariel Mariele Marielle Mariellen Marietta Mariette Marigold Marijo Marika Marilee Marilin Marillin Marilyn Marin Marina Marinna Marion Mariquilla Maris Marisa Mariska Marissa Marit Marita Maritsa Mariya Marj Marja Marje Marji Marjie Marjorie Marjory Marjy Marketa Marla Marlane Marleah Marlee Marleen Marlena Marlene Marley Marlie Marline Marlo Marlyn Marna Marne Marney Marni Marnia Marnie Marquita Marrilee Marris Marrissa Marry Marsha Marsiella Marta Martelle Martguerita Martha Marthe Marthena Marti Martica Martie Martina Martita Marty Martynne Mary Marya Maryangelyn Maryann Maryanna Maryanne Marybelle Marybeth Maryellen Maryjane Maryjo Maryl Marylee Marylin Marylinda Marylou Marylynne Maryrose Marys Marysa Masha Matelda Mathilda Mathilde Matilda Matilde Matti Mattie Matty Maud Maude Maudie Maura Maure Maureen Maureene Maurene Maurine Maurise Maurita Mavis Mavra Max Maxi Maxie Maxine Maxy May Maya Maybelle Mayda Maye Mead Meade Meagan Meaghan Meara Mechelle Meg Megan Megen Meggan Meggi Meggie Meggy Meghan Meghann Mehetabel Mei Meira Mel Mela Melamie Melania Melanie Melantha Melany Melba Melesa Melessa Melicent Melina Melinda Melinde Melisa Melisande Melisandra Melisenda Melisent Melissa Melisse Melita Melitta Mella Melli Mellicent Mellie Mellisa Mellisent Mellissa Melloney Melly Melodee Melodie Melody Melonie Melony Melosa Melva Mercedes Merci Mercie Mercy Meredith Meredithe Meridel Meridith Meriel Merilee Merilyn Meris Merissa Merl Merla Merle Merlina Merline Merna Merola Merralee Merridie Merrie Merrielle Merrile Merrilee Merrili Merrill Merrily Merry Mersey Meryl Meta Mia Micaela Michaela Michaelina Michaeline Michaella Michal Michel Michele Michelina Micheline Michell Michelle Micki Mickie Micky Midge Mignon Mignonne Miguela Miguelita Mildred Mildrid Milena Milicent Milissent Milka Milli Millicent Millie Millisent Milly Milzie Mimi Min Mina Minda Mindy Minerva Minetta Minette Minna Minni Minnie Minny Minta Miquela Mira Mirabel Mirabella Mirabelle Miran Miranda Mireielle Mireille Mirella Mirelle Miriam Mirilla Mirna Misha Missie Missy Misti Misty Mitra Mitzi Mmarianne Modesta Modestia Modestine Modesty Moina Moira Moll Mollee Molli Mollie Molly Mommy Mona Monah Monica Monika Monique Mora Moreen Morena Morgan Morgana Morganica Morganne Morgen Moria Morissa Morlee Morna Moselle Moya Moyna Moyra Mozelle Muffin Mufi Mufinella Muire Mureil Murial Muriel Murielle Myna Myra Myrah Myranda Myriam Myrilla Myrle Myrlene Myrna Myrta Myrtia Myrtice Myrtie Myrtle Nada Nadean Nadeen Nadia Nadine Nadiya Nady Nadya Nalani Nan Nana Nananne Nance Nancee Nancey Nanci Nancie Nancy Nanete Nanette Nani Nanice Nanine Nannette Nanni Nannie Nanny Nanon Naoma Naomi Nara Nari Nariko Nat Nata Natala Natalee Natalia Natalie Natalina Nataline Natalya Natasha Natassia Nathalia Nathalie Natka Natty Neala Neda Nedda Nedi Neely Neila Neile Neilla Neille Nela Nelia Nelie Nell Nelle Nelli Nellie Nelly Nena Nerissa Nerita Nert Nerta Nerte Nerti Nertie Nerty Nessa Nessi Nessie Nessy Nesta Netta Netti Nettie Nettle Netty Nevsa Neysa Nichol Nichole Nicholle Nicki Nickie Nicky Nicol Nicola Nicole Nicolea Nicolette Nicoli Nicolina Nicoline Nicolle Nidia Nike Niki Nikki Nikkie Nikoletta Nikolia Nil Nina Ninetta Ninette Ninnetta Ninnette Ninon Nisa Nissa Nisse Nissie Nissy Nita Nitin Nixie Noami Noel Noelani Noell Noella Noelle Noellyn Noelyn Noemi Nola Nolana Nolie Nollie Nomi Nona Nonah Noni Nonie Nonna Nonnah Nora Norah Norean Noreen Norene Norina Norine Norma Norri Norrie Norry Nova Novelia Nydia Nyssa Octavia Odele Odelia Odelinda Odella Odelle Odessa Odetta Odette Odilia Odille Ofelia Ofella Ofilia Ola Olenka Olga Olia Olimpia Olive Olivette Olivia Olivie Oliy Ollie Olly Olva Olwen Olympe Olympia Olympie Ondrea Oneida Onida Onlea Oona Opal Opalina Opaline Ophelia Ophelie Oprah Ora Oralee Oralia Oralie Oralla Oralle Orel Orelee Orelia Orelie Orella Orelle Oreste Oriana Orly Orsa Orsola Ortensia Otha Othelia Othella Othilia Othilie Ottilie Pacifica Page Paige Paloma Pam Pamela Pamelina Pamella Pammi Pammie Pammy Pandora Pansie Pansy Paola Paolina Parwane Pat Patience Patrica Patrice Patricia Patrizia Patsy Patti Pattie Patty Paula Paula-Grace Paule Pauletta Paulette Pauli Paulie Paulina Pauline Paulita Pauly Pavia Pavla Pearl Pearla Pearle Pearline Peg Pegeen Peggi Peggie Peggy Pen Penelopa Penelope Penni Pennie Penny Pepi Pepita Peri Peria Perl Perla Perle Perri Perrine Perry Persis Pet Peta Petra Petrina Petronella Petronia Petronilla Petronille Petunia Phaedra Phaidra Phebe Phedra Phelia Phil Philipa Philippa Philippe Philippine Philis Phillida Phillie Phillis Philly Philomena Phoebe Phylis Phyllida Phyllis Phyllys Phylys Pia Pier Pierette Pierrette Pietra Piper Pippa Pippy Polly Pollyanna Pooh Poppy Portia Pris Prisca Priscella Priscilla Prissie Pru Prudence Prudi Prudy Prue Prunella Queada Queenie Quentin Querida Quinn Quinta Quintana Quintilla Quintina Rachael Rachel Rachele Rachelle Rae Raf Rafa Rafaela Rafaelia Rafaelita Ragnhild Rahal Rahel Raina Raine Rakel Ralina Ramona Ramonda Rana Randa Randee Randene Randi Randie Randy Ranee Rani Rania Ranice Ranique Ranna Raphaela Raquel Raquela Rasia Rasla Raven Ray Raychel Raye Rayna Raynell Rayshell Rea Reba Rebbecca Rebe Rebeca Rebecca Rebecka Rebeka Rebekah Rebekkah Ree Reeba Reena Reeta Reeva Regan Reggi Reggie Regina Regine Reiko Reina Reine Remy Rena Renae Renata Renate Rene Renee Renel Renell Renelle Renie Rennie Reta Retha Revkah Rey Reyna Rhea Rheba Rheta Rhetta Rhiamon Rhianna Rhianon Rhoda Rhodia Rhodie Rhody Rhona Rhonda Riane Riannon Rianon Rica Ricca Rici Ricki Rickie Ricky Riki Rikki Rina Risa Rissa Rita Riva Rivalee Rivi Rivkah Rivy Roana Roanna Roanne Robbi Robbie Robbin Robby Robbyn Robena Robenia Roberta Robin Robina Robinet Robinett Robinetta Robinette Robinia Roby Robyn Roch Rochell Rochella Rochelle Rochette Roda Rodi Rodie Rodina Romola Romona Romonda Romy Rona Ronalda Ronda Ronica Ronna Ronni Ronnica Ronnie Ronny Roobbie Rora Rori Rorie Rory Ros Rosa Rosabel Rosabella Rosabelle Rosaleen Rosalia Rosalie Rosalind Rosalinda Rosalinde Rosaline Rosalyn Rosalynd Rosamond Rosamund Rosana Rosanna Rosanne Rosario Rose Roseann Roseanna Roseanne Roselia Roselin Roseline Rosella Roselle Roselyn Rosemaria Rosemarie Rosemary Rosemonde Rosene Rosetta Rosette Roshelle Rosie Rosina Rosita Roslyn Rosmunda Rosy Row Rowe Rowena Roxana Roxane Roxanna Roxanne Roxi Roxie Roxine Roxy Roz Rozalie Rozalin Rozamond Rozanna Rozanne Roze Rozele Rozella Rozelle Rozina Rubetta Rubi Rubia Rubie Rubina Ruby Ruella Ruperta Ruth Ruthann Ruthanne Ruthe Ruthi Ruthie Ruthy Ryann Rycca Saba Sabina Sabine Sabra Sabrina Sacha Sada Sadella Sadie Sal Sallee Salli Sallie Sally Sallyann Sallyanne Salome Sam Samantha Samara Samaria Sammy Samuela Samuella Sande Sandi Sandie Sandra Sandy Sandye Sapphira Sapphire Sara Sara-Ann Saraann Sarah Sarajane Saree Sarena Sarene Sarette Sari Sarina Sarine Sarita Sascha Sasha Sashenka Saudra Saundra Savina Sayre Scarlet Scarlett Scotty Sean Seana Secunda Seka Sela Selena Selene Selestina Selia Selie Selina Selinda Seline Sella Selle Selma Sena Sephira Serena Serene Shaina Shaine Shalna Shalne Shamit Shana Shanda Shandee Shandie Shandra Shandy Shane Shani Shanie Shanna Shannah Shannen Shannon Shanon Shanta Shantee Shara Sharai Shari Sharia Sharie Sharity Sharl Sharla Sharleen Sharlene Sharline Sharna Sharon Sharona Sharra Sharron Sharyl Shaun Shauna Shawn Shawna Shawnee Shay Shayla Shaylah Shaylyn Shaylynn Shayna Shayne Shea Sheba Sheela Sheelagh Sheelah Sheena Sheeree Sheila Sheila-Kathryn Sheilah Sheilakathryn Shel Shela Shelagh Shelba Shelbi Shelby Shelia Shell Shelley Shelli Shellie Shelly Shena Sher Sheree Sheri Sherie Sheril Sherill Sherilyn Sherline Sherri Sherrie Sherry Sherye Sheryl Shilpa Shina Shir Shira Shirah Shirl Shirlee Shirleen Shirlene Shirley Shirline Shoshana Shoshanna Shoshie Siana Sianna Sib Sibbie Sibby Sibeal Sibel Sibella Sibelle Sibilla Sibley Sibyl Sibylla Sibylle Sidoney Sidonia Sidonnie Sigrid Sile Sileas Silva Silvana Silvia Silvie Simona Simone Simonette Simonne Sindee Sinead Siobhan Sioux Siouxie Sisely Sisile Sissie Sissy Sofia Sofie Solange Sondra Sonia Sonja Sonni Sonnie Sonnnie Sonny Sonya Sophey Sophi Sophia Sophie Sophronia Sorcha Sosanna Stace Stacee Stacey Staci Stacia Stacie Stacy Stafani Star Starla Starlene Starlin Starr Stefa Stefania Stefanie Steffane Steffi Steffie Stella Stepha Stephana Stephani Stephanie Stephannie Stephenie Stephi Stephie Stephine Stesha Stevana Stevena Stoddard Storey Storm Stormi Stormie Stormy Sue Sue-elle Suellen Sukey Suki Sula Sunny Sunshine Susan Susana Susanetta Susann Susanna Susannah Susanne Susette Susi Susie Sussi Susy Suzan Suzann Suzanna Suzanne Suzetta Suzette Suzi Suzie Suzy Suzzy Sybil Sybila Sybilla Sybille Sybyl Sydel Sydelle Sydney Sylvia Sylvie Tabatha Tabbatha Tabbi Tabbie Tabbitha Tabby Tabina Tabitha Taffy Talia Tallia Tallie Tally Talya Talyah Tamar Tamara Tamarah Tamarra Tamera Tami Tamiko Tamma Tammara Tammi Tammie Tammy Tamra Tana Tandi Tandie Tandy Tani Tania Tansy Tanya Tara Tarah Tarra Tarrah Taryn Tasha Tasia Tate Tatiana Tatiania Tatum Tawnya Tawsha Teane Ted Tedda Teddi Teddie Teddy Tedi Tedra Teena Tella Teodora Tera Teresa TeresaAnne Terese Teresina Teresita Teressa Teri Teriann Terina Terra Terri Terri-Jo Terrianne Terrie Terry Terrye Tersina Teryl Terza Tess Tessa Tessi Tessie Tessy Thalia Thea Theada Theadora Theda Thekla Thelma Theo Theodora Theodosia Theresa Theresa-Marie Therese Theresina Theresita Theressa Therine Thia Thomasa Thomasin Thomasina Thomasine Tia Tiana Tiena Tierney Tiertza Tiff Tiffani Tiffanie Tiffany Tiffi Tiffie Tiffy Tilda Tildi Tildie Tildy Tillie Tilly Tim Timi Timmi Timmie Timmy Timothea Tina Tine Tiphani Tiphanie Tiphany Tish Tisha Tobe Tobey Tobi Tobie Toby Tobye Toinette Toma Tomasina Tomasine Tomi Tomiko Tommi Tommie Tommy Toni Tonia Tonie Tony Tonya Tootsie Torey Tori Torie Torrie Tory Tova Tove Trace Tracee Tracey Traci Tracie Tracy Trenna Tresa Trescha Tressa Tricia Trina Trish Trisha Trista Trix Trixi Trixie Trixy Truda Trude Trudey Trudi Trudie Trudy Trula Tuesday Twila Twyla Tybi Tybie Tyne Ula Ulla Ulrica Ulrika Ulrike Umeko Una Ursa Ursala Ursola Ursula Ursulina Ursuline Uta Val Valaree Valaria Vale Valeda Valencia Valene Valenka Valentia Valentina Valentine Valera Valeria Valerie Valery Valerye Valida Valina Valli Vallie Vally Valma Valry Van Vanda Vanessa Vania Vanna Vanni Vannie Vanny Vanya Veda Velma Velvet Vena Venita Ventura Venus Vera Veradis Vere Verena Verene Veriee Verile Verina Verine Verla Verna Vernice Veronica Veronika Veronike Veronique Vi Vicki Vickie Vicky Victoria Vida Viki Vikki Vikkie Vikky Vilhelmina Vilma Vin Vina Vinita Vinni Vinnie Vinny Viola Violante Viole Violet Violetta Violette Virgie Virgina Virginia Virginie Vita Vitia Vitoria Vittoria Viv Viva Vivi Vivia Vivian Viviana Vivianna Vivianne Vivie Vivien Viviene Vivienne Viviyan Vivyan Vivyanne Vonni Vonnie Vonny Wallie Wallis Wally Waly Wanda Wandie Wandis Waneta Wenda Wendeline Wendi Wendie Wendy Wenona Wenonah Whitney Wileen Wilhelmina Wilhelmine Wilie Willa Willabella Willamina Willetta Willette Willi Willie Willow Willy Willyt Wilma Wilmette Wilona Wilone Wilow Windy Wini Winifred Winna Winnah Winne Winni Winnie Winnifred Winny Winona Winonah Wren Wrennie Wylma Wynn Wynne Wynnie Wynny Xaviera Xena Xenia Xylia Xylina Yalonda Yehudit Yelena Yetta Yettie Yetty Yevette Yoko Yolanda Yolande Yolane Yolanthe Yonina Yoshi Yoshiko Yovonnda Yvette Yvonne Zabrina Zahara Zandra Zaneta Zara Zarah Zaria Zarla Zea Zelda Zelma Zena Zenia Zia Zilvia Zita Zitella Zoe Zola Zonda Zondra Zonnya Zora Zorah Zorana Zorina Zorine Zsa Zsa Zsazsa Zulema Zuzana Mikako Kaari Gita Geeta Aamir Aaron Abbey Abbie Abbot Abbott Abby Abdel Abdul Abdulkarim Abdullah Abe Abel Abelard Abner Abraham Abram Ace Adair Adam Adams Addie Adger Aditya Adlai Adnan Adolf Adolfo Adolph Adolphe Adolpho Adolphus Adrian Adrick Adrien Agamemnon Aguinaldo Aguste Agustin Aharon Ahmad Ahmed Ahmet Ajai Ajay Al Alaa Alain Alan Alasdair Alastair Albatros Albert Alberto Albrecht Alden Aldis Aldo Aldric Aldrich Aldus Aldwin Alec Aleck Alejandro Aleks Aleksandrs Alessandro Alex Alexander Alexei Alexis Alf Alfie Alfonse Alfonso Alfonzo Alford Alfred Alfredo Algernon Ali Alic Alister Alix Allah Allan Allen Alley Allie Allin Allyn Alonso Alonzo Aloysius Alphonse Alphonso Alston Alton Alvin Alwin Amadeus Ambros Ambrose Ambrosi Ambrosio Ambrosius Amery Amory Amos Anatol Anatole Anatollo Anatoly Anders Andie Andonis Andre Andrea Andreas Andrej Andres Andrew Andrey Andri Andros Andrus Andrzej Andy Angel Angelico Angelo Angie Angus Ansel Ansell Anselm Anson Anthony Antin Antoine Anton Antone Antoni Antonin Antonino Antonio Antonius Antony Anurag Apollo Apostolos Aram Archibald Archibold Archie Archon Archy Arel Ari Arie Ariel Aristotle Arlo Armand Armando Armond Armstrong Arne Arnie Arnold Arnoldo Aron Arron Art Arther Arthur Artie Artur Arturo Arvie Arvin Arvind Arvy Ash Ashby Ashish Ashley Ashton Aub Aube Aubert Aubrey Augie August Augustin Augustine Augusto Augustus Austen Austin Ave Averell Averil Averill Avery Avi Avraham Avram Avrom Axel Aylmer Aziz Bailey Bailie Baillie Baily Baird Baldwin Bancroft Barbabas Barclay Bard Barde Barn Barnabas Barnabe Barnaby Barnard Barnebas Barnett Barney Barnie Barny Baron Barr Barret Barrett Barri Barrie Barris Barron Barry Bart Bartel Barth Barthel Bartholemy Bartholomeo Bartholomeus Bartholomew Bartie Bartlet Bartlett Bartolemo Bartolomei Bartolomeo Barton Barty Bary Basil Batholomew Baxter Bay Bayard Beale Bealle Bear Bearnard Beau Beaufort Beauregard Beck Bela Ben Benedict Bengt Benito Benjamen Benjamin Benji Benjie Benjy Benn Bennet Bennett Bennie Benny Benson Bentley Benton Beowulf Berchtold Berk Berke Berkeley Berkie Berkley Bernard Bernardo Bernd Bernhard Bernie Bert Bertie Bertram Bertrand Bharat Biff Bill Billie Billy Bing Binky Bishop Bjorn Bjorne Blaine Blair Blake Blare Blayne Bo Bob Bobbie Bobby Bogart Bogdan Boniface Boris Boyce Boyd Brad Braden Bradford Bradley Bradly Brady Brandon Brandy Brant Brendan Brent Bret Brett Brewer Brewster Brian Brice Briggs Brinkley Britt Brock Broddie Broddy Broderic Broderick Brodie Brody Bronson Brook Brooke Brooks Bruce Bruno Bryan Bryant Bryce Bryn Bryon Bubba Buck Bucky Bud Buddy Burgess Burke Burl Burnaby Burt Burton Buster Butch Butler Byram Byron Caesar Cain Cal Caldwell Caleb Calhoun Calvin Cam Cameron Cammy Carey Carl Carleigh Carlie Carlin Carlo Carlos Carlton Carlyle Carmine Carroll Carson Carsten Carter Cary Caryl Case Casey Caspar Casper Cass Cat Cecil Cesar Chad Chadd Chaddie Chaddy Chadwick Chaim Chalmers Chan Chance Chancey Chanderjit Chandler Chane Chariot Charles Charleton Charley Charlie Charlton Chas Chase Chaunce Chauncey Che Chelton Chen Chester Cheston Chet Chev Chevalier Chevy Chip Chris Chrissy Christ Christian Christiano Christie Christof Christofer Christoph Christophe Christopher Christorpher Christos Christy Chrisy Chuck Churchill Clair Claire Clancy Clarance Clare Clarence Clark Clarke Claude Claudio Claudius Claus Clay Clayborn Clayborne Claybourne Clayton Cleland Clem Clemens Clement Clemente Clemmie Cletus Cleveland Cliff Clifford Clifton Clint Clinten Clinton Clive Clyde Cob Cobb Cobbie Cobby Cody Colbert Cole Coleman Colin Collin Collins Conan Connie Connolly Connor Conrad Conroy Constantin Constantine Constantinos Conway Cooper Corbin Corby Corey Corky Cornelius Cornellis Corrie Cortese Corwin Cory Cosmo Costa Courtney Craig Crawford Creighton Cris Cristopher Curt Curtice Curtis Cy Cyril Cyrill Cyrille Cyrillus Cyrus Dabney Daffy Dale Dallas Dalton Damian Damien Damon Dan Dana Dane Dani Danie Daniel Dannie Danny Dante Darby Darcy Daren Darian Darien Darin Dario Darius Darrel Darrell Darren Darrick Darrin Darryl Darth Darwin Daryl Daryle Dave Davey David Davidde Davide Davidson Davie Davin Davis Davon Davoud Davy Dawson Dean Deane Del Delbert Dell Delmar Demetre Demetri Demetris Demetrius Demosthenis Denis Dennie Dennis Denny Derby Derek Derick Derk Derrek Derrick Derrin Derrol Derron Deryl Desmond Desmund Devin Devon Dewey Dewitt Dexter Dick Dickey Dickie Diego Dieter Dietrich Dillon Dimitri Dimitrios Dimitris Dimitrou Dimitry Dino Dion Dionis Dionysus Dirk Dmitri Dom Domenic Domenico Dominic Dominick Dominique Don Donal Donald Donn Donnie Donny Donovan Dorian Dory Doug Douggie Dougie Douglas Douglass Douglis Dov Doyle Drake Drew Dru Dryke Duane Dudley Duffie Duffy Dugan Duke Dunc Duncan Dunstan Durand Durant Durante Durward Dustin Dwain Dwaine Dwane Dwayne Dwight Dylan Dyson Earl Earle Easton Eben Ebeneser Ebenezer Eberhard Ed Eddie Eddy Edgar Edgardo Edie Edmond Edmund Edouard Edsel Eduard Eduardo Edward Edwin Efram Egbert Ehud Elbert Elden Eldon Eli Elias Elihu Elijah Eliot Eliott Elisha Elliot Elliott Ellis Ellsworth Ellwood Elmer Elmore Elnar Elric Elroy Elton Elvin Elvis Elwin Elwood Elwyn Ely Emanuel Emerson Emery Emil Emile Emilio Emmanuel Emmery Emmet Emmett Emmit Emmott Emmy Emory Ender Engelbart Engelbert Englebart Englebert Enoch Enrico Enrique Ephraim Ephram Ephrayim Ephrem Er Erasmus Erastus Erek Erhard Erhart Eric Erich Erick Erik Erin Erl Ernest Ernesto Ernie Ernst Erny Errol Ervin Erwin Esau Esme Esteban Ethan Ethelbert Ethelred Etienne Euclid Eugen Eugene Eustace Ev Evan Evelyn Everard Everett Ewan Ewart Ez Ezechiel Ezekiel Ezra Fabian Fabio Fairfax Farley Fazeel Federico Felice Felicio Felipe Felix Ferd Ferdie Ferdinand Ferdy Fergus Ferguson Ferinand Fernando Fidel Filbert Filip Filipe Filmore Finley Finn Fitz Fitzgerald Flem Fleming Flemming Fletch Fletcher Flin Flinn Flint Flipper Florian Floyd Flynn Fons Fonsie Fonz Fonzie Forbes Ford Forest Forester Forrest Forrester Forster Foster Fowler Fox Fran Francesco Francis Francisco Francois Frank Frankie Franklin Franklyn Franky Frans Franz Fraser Frazier Fred Freddie Freddy Frederic Frederich Frederick Frederico Frederik Fredric Fredrick Freeman Freemon Fremont French Friedric Friedrich Friedrick Fritz Fulton Fyodor Gabe Gabriel Gabriele Gabriell Gabriello Gail Gale Galen Gallagher Gamaliel Garcia Garcon Gardener Gardiner Gardner Garey Garfield Garfinkel Garold Garp Garret Garrett Garrot Garrott Garry Garth Garv Garvey Garvin Garvy Garwin Garwood Gary Gaspar Gasper Gaston Gav Gaven Gavin Gavriel Gay Gayle Gearard Gene Geo Geof Geoff Geoffrey Geoffry Georg George Georges Georgia Georgie Georgy Gerald Geraldo Gerard Gere Gerhard Gerhardt Geri Germaine Gerold Gerome Gerrard Gerri Gerrit Gerry Gershom Gershon Giacomo Gian Giancarlo Giavani Gibb Gideon Giff Giffard Giffer Giffie Gifford Giffy Gil Gilbert Gilberto Gilburt Giles Gill Gilles Ginger Gino Giordano Giorgi Giorgio Giovanne Giovanni Giraldo Giraud Giuseppe Glen Glenn Glynn Godard Godart Goddard Goddart Godfree Godfrey Godfry Godwin Gomer Gonzales Gonzalo Goober Goose Gordan Gordie Gordon Grace Grady Graehme Graeme Graham Graig Grant Granville Greg Gregg Greggory Gregor Gregorio Gregory Gretchen Griff Griffin Griffith Griswold Grove Grover Guido Guillaume Guillermo Gunner Gunter Gunther Gus Gustaf Gustav Gustave Gustavo Gustavus Guthrey Guthrie Guthry Guy Hadleigh Hadley Hadrian Hagan Hagen Hailey Hakeem Hakim Hal Hale Haleigh Haley Hall Hallam Halvard Ham Hamel Hamid Hamil Hamilton Hamish Hamlen Hamlet Hamlin Hammad Hamnet Han Hanan Hanford Hank Hannibal Hans Hans-Peter Hansel Hanson Harald Harcourt Hari Harlan Harland Harley Harlin Harman Harmon Harold Harris Harrison Harrold Harry Hart Hartley Hartwell Harv Harvard Harvey Harvie Harwell Hasheem Hashim Haskel Haskell Hassan Hastings Hasty Haven Hayden Haydon Hayes Hayward Haywood Hazel Heath Heathcliff Hebert Hector Heinrich Heinz Helmuth Henderson Hendrick Hendrik Henri Henrie Henrik Henrique Henry Herb Herbert Herbie Herby Hercule Hercules Herculie Herman Hermann Hermon Hermy Hernando Herold Herrick Herrmann Hersch Herschel Hersh Hershel Herve Hervey Hew Hewe Hewet Hewett Hewie Hewitt Heywood Hezekiah Higgins Hilary Hilbert Hill Hillard Hillary Hillel Hillery Hilliard Hilton Hiralal Hiram Hiro Hirsch Hobart Hodge Hogan Hollis Holly Homer Horace Horacio Horatio Horatius Horst Howard Howie Hoyt Hubert Hudson Huey Hugh Hugo Humbert Humphrey Hunt Hunter Huntington Huntlee Huntley Hurley Husain Husein Hussein Hy Hyatt Hyman Hymie Iago Iain Ian Ibrahim Ichabod Iggie Iggy Ignace Ignacio Ignacius Ignatius Ignaz Ignazio Igor Ike Ikey Immanuel Ingamar Ingelbert Ingemar Inglebert Ingmar Ingram Inigo Ira Irvin Irvine Irving Irwin Isa Isaac Isaak Isador Isadore Isaiah Ishmael Isidore Ismail Israel Istvan Ivan Ivor Izaak Izak Izzy Jabez Jack Jackie Jackson Jacob Jacques Jae Jaime Jake Jakob James Jameson Jamey Jamie Jan Janos Janus Jared Jarrett Jarvis Jason Jasper Javier Jay Jean Jean-Christophe Jean-Francois Jean-Lou Jean-Luc Jean-Marc Jean-Paul Jean-Pierre Jeb Jed Jedediah Jef Jeff Jefferey Jefferson Jeffery Jeffie Jeffrey Jeffry Jefry Jehu Jennings Jens Jephthah Jerald Jeramie Jere Jereme Jeremiah Jeremias Jeremie Jeremy Jermain Jermaine Jermayne Jerold Jerome Jeromy Jerri Jerrie Jerrold Jerrome Jerry Jervis Jerzy Jess Jesse Jessee Jessey Jessie Jesus Jeth Jethro Jim Jimbo Jimmie Jimmy Jo Joab Joachim Joao Joaquin Job Jock Jodi Jodie Jody Joe Joel Joey Johan Johann Johannes John John-David John-Patrick Johnathan Johnathon Johnnie Johnny Johny Jon Jonah Jonas Jonathan Jonathon Jonny Jordan Jordon Jordy Jorge Jory Jose Josef Joseph Josephus Josh Joshua Joshuah Josiah Jotham Juan Juanita Jud Judah Judas Judd Jude Judith Judson Judy Juergen Jule Jules Julian Julie Julio Julius Justin Justis Kaiser Kaleb Kalil Kalle Kalman Kalvin Kam Kane Kareem Karel Karim Karl Karsten Kaspar Keefe Keenan Keene Keil Keith Kellen Kelley Kelly Kelsey Kelvin Kelwin Ken Kendal Kendall Kendrick Kenn Kennedy Kenneth Kenny Kent Kenton Kenyon Kermie Kermit Kerry Kevan Kevin Kim Kimball Kimmo Kin Kincaid King Kingsley Kingsly Kingston Kip Kirby Kirk Kit Klaus Klee Knox Konrad Konstantin Kory Kostas Kraig Kris Krishna Kristian Kristopher Kristos Kurt Kurtis Kyle Laird Lamar Lambert Lamont Lance Lancelot Lane Langston Lanny Larry Lars Laurance Lauren Laurence Laurens Laurent Laurie Lawerence Lawrence Lawson Lawton Lay Layton Lazar Lazare Lazaro Lazarus Lazlo Lee Lefty Leif Leigh Leighton Leland Lem Lemar Lemmie Lemmy Lemuel Len Lenard Lennie Lenny Leo Leon Leonard Leonardo Leonerd Leonhard Leonid Leonidas Leopold Leroy Les Lesley Leslie Lester Lev Levi Levin Levon Levy Lew Lewis Lex Liam Lin Lincoln Lind Lindsay Lindsey Lindy Linoel Linus Lion Lionel Lionello Llewellyn Lloyd Locke Lockwood Logan Lon Lonnie Lonny Loren Lorenzo Lorne Lorrie Lothar Lou Louie Louis Lovell Lowell Lucas Luce Lucian Luciano Lucien Lucio Lucius Ludvig Ludwig Luigi Luis Lukas Luke Luther Lyle Lyn Lyndon Lynn Mac Mace Mack Mackenzie Maddie Maddy Madison Magnum Magnus Mahesh Mahmoud Mahmud Maison Major Malcolm Manfred Manish Manny Manuel Marc Marcel Marcello Marcellus Marcelo Marchall Marcio Marco Marcos Marcus Marietta Marilu Mario Marion Marius Mark Marko Markos Markus Marlin Marlo Marlon Marlow Marlowe Marmaduke Marsh Marshal Marshall Mart Martainn Marten Martie Martin Martino Marty Martyn Marv Marve Marven Marvin Marwin Mason Mateo Mathew Mathias Matias Matt Matteo Matthaeus Mattheus Matthew Matthias Matthieu Matthiew Matthus Mattias Mattie Matty Maurice Mauricio Maurie Maurise Maurits Mauritz Maury Max Maxfield Maxie Maxim Maximilian Maximilien Maxwell Mayer Maynard Maynord Mayor Mead Meade Meier Meir Mel Melvin Melvyn Menard Mendel Mendie Meredeth Meredith Merell Merill Merle Merlin Merrel Merrick Merril Merrill Merry Merv Mervin Merwin Meryl Meyer Mic Micah Michael Michail Michal Michale Micheal Micheil Michel Michele Mick Mickey Mickie Micky Miguel Mika Mikael Mike Mikel Mikey Mikhail Miles Millicent Milo Milt Milton Mischa Mitch Mitchael Mitchel Mitchell Moe Mohamad Mohamed Mohammad Mohammed Mohan Moise Moises Moishe Monroe Montague Monte Montgomery Monty Moore Mordecai Morgan Morlee Morley Morly Morrie Morris Morry Morse Mort Morten Mortie Mortimer Morton Morty Mose Moses Moshe Moss Muffin Mugsy Muhammad Munmro Munroe Murdoch Murdock Murphy Murray Mustafa Myke Myles Mylo Myron Nahum Napoleon Nat Natale Nate Nathan Nathanael Nathanial Nathaniel Nathanil Neal Neale Neall Nealon Nealson Nealy Ned Neddie Neddy Neel Neil Nels Nelsen Nelson Nero Neron Nester Nestor Nev Nevil Nevile Neville Nevin Nevins Newton Niall Niccolo Nicholas Nichole Nichols Nick Nickey Nickie Nickolas Nicky Nico Nicolas Niels Nigel Niki Nikita Nikki Nikolai Nikos Niles Nils Nilson Niven Noach Noah Noam Noble Noe Noel Nolan Noland Norbert Norm Norman Normand Normie Norris Northrop Northrup Norton Norwood Nunzio Obadiah Obadias Oberon Obie Octavius Odell Odie Odin Odysseus Olaf Olag Ole Oleg Olin Oliver Olivier Olle Ollie Omar Oral Oran Orazio Orbadiah Oren Orin Orion Orlando Orren Orrin Orson Orton Orville Osbert Osborn Osborne Osbourn Osbourne Oscar Osgood Osmond Osmund Ossie Oswald Oswell Otes Othello Otho Otis Otto Owen Ozzie Ozzy Pablo Pace Paco Paddie Paddy Padraig Page Paige Pail Palmer Paolo Park Parke Parker Parnell Parrnell Parry Parsifal Partha Pascal Pascale Pasquale Pat Pate Patel Paten Patin Paton Patric Patrice Patricio Patrick Patrik Patsy Pattie Patty Paul Paulo Pavel Pearce Pedro Peirce Pembroke Pen Penn Pennie Penny Penrod Pepe Pepillo Pepito Perceval Percival Percy Perry Pete Peter Petey Petr Peyter Peyton Phil Philbert Philip Phillip Phillipe Phillipp Phineas Phip Pierce Pierre Pierson Piet Pieter Pietro Piggy Pincas Pinchas Pincus Piotr Pip Plato Pooh Porter Poul Powell Praneetf Prasad Prasun Prent Prentice Prentiss Prescott Preston Price Prince Pryce Puff Purcell Putnam Pyotr Quent Quentin Quiggly Quigly Quigman Quill Quillan Quincey Quincy Quinlan Quinn Quint Quintin Quinton Quintus Rab Rabbi Rabi Rad Radcliffe Rafael Rafe Ragnar Raimund Rainer Raj Rajeev Raleigh Ralf Ralph Ram Ramesh Ramon Ramsay Ramsey Rand Randal Randall Randell Randi Randie Randolf Randolph Randy Ransell Ransom Raoul Raphael Raul Ravi Ravil Rawley Ray Raymond Raymund Raymundo Raynard Rayner Raynor Reagan Red Redford Redmond Reece Reed Rees Reese Reg Regan Regen Reggie Reggis Reggy Reginald Reginauld Reid Reilly Reinhard Reinhold Rem Remington Remus Renado Renaldo Renard Renato Renaud Renault Rene Reube Reuben Reuven Rex Rey Reynard Reynold Reynolds Reza Rhett Ric Ricard Ricardo Riccardo Rice Rich Richard Richardo Richie Richmond Richy Rick Rickard Rickey Ricki Rickie Ricky Rik Rikki Riley Rinaldo Ripley Ritch Ritchie Roarke Rob Robb Robbert Robbie Robert Roberto Robin Robinson Rochester Rock Rockwell Rocky Rod Rodd Roddie Roddy Roderic Roderich Roderick Roderigo Rodge Rodger Rodney Rodolfo Rodolph Rodolphe Rodrick Rodrigo Rodrique Rog Roger Rogers Roice Roland Rolando Rolf Rolfe Rolland Rollin Rollins Rollo Rolph Romain Roman Romeo Ron Ronald Ronen Roni Ronnie Ronny Roosevelt Rory Roscoe Ross Roth Rourke Rowland Roy Royal Royce Rube Ruben Rubin Ruby Rudd Ruddie Ruddy Rudie Rudiger Rudolf Rudolfo Rudolph Rudy Rudyard Rufe Rufus Rupert Ruperto Russ Russel Russell Rustie Rustin Rusty Rutger Rutherford Rutledge Rutter Ryan Sal Salem Salim Salman Salmon Salomo Salomon Salomone Salvador Salvatore Salvidor Sam Sammie Sammy Sampson Samson Samuel Samuele Sancho Sander Sanders Sanderson Sandor Sandro Sandy Sanford Sanson Sansone Sarge Sargent Sascha Sasha Saul Sauncho Saunder Saunders Saunderson Saundra Saw Sawyer Sawyere Sax Saxe Saxon Say Sayer Sayers Sayre Sayres Scarface Schroeder Schuyler Scot Scott Scotti Scottie Scotty Seamus Sean Sebastian Sebastiano Sebastien See Selby Selig Serge Sergeant Sergei Sergent Sergio Seth Seymour Shadow Shaine Shalom Shamus Shanan Shane Shannan Shannon Shaughn Shaun Shaw Shawn Shay Shayne Shea Sheff Sheffie Sheffield Sheffy Shelby Shelden Sheldon Shell Shelley Shelton Shem Shep Shepard Shepherd Sheppard Shepperd Sheridan Sherlock Sherlocke Sherman Sherwin Sherwood Sherwynd Shimon Shlomo Sholom Shorty Shurlock Shurlocke Shurwood Si Sibyl Sid Siddhartha Sidnee Sidney Siegfried Siffre Sig Sigfrid Sigfried Sigmund Silas Silvain Silvan Silvano Silvanus Silvester Silvio Sim Simeon Simmonds Simon Simone Sinclair Sinclare Sivert Siward Skell Skelly Skip Skipp Skipper Skippie Skippy Skipton Sky Skye Skylar Skyler Slade Slim Sloan Sloane Sly Smith Smitty Socrates Sol Sollie Solly Solomon Somerset Son Sonnie Sonny Sparky Spence Spencer Spense Spenser Spike Spiro Spiros Spud Srinivas Stacy Staffard Stafford Staford Stan Standford Stanfield Stanford Stanislaw Stanleigh Stanley Stanly Stanton Stanwood Stavros Stearn Stearne Stefan Stefano Steffen Stephan Stephanus Stephen Sterling Stern Sterne Steve Steven Stevie Stevy Stew Steward Stewart Stig Stillman Stillmann Sting Stinky Stirling Stu Stuart Sturgis Sullivan Sully Sumner Sunny Sutherland Sutton Sven Swen Syd Sydney Sylvan Sylvester Tab Tabb Tabbie Tabby Taber Tabor Tad Tadd Taddeo Taddeus Tadeas Tailor Tait Taite Talbert Talbot Tallie Tally Tam Tamas Tammie Tammy Tan Tann Tanner Tanney Tannie Tanny Tarrance Tarrant Tarzan Tate Taylor Teador Ted Tedd Teddie Teddy Tedie Tedman Tedmund Tedrick Temp Temple Templeton Teodoor Teodor Teodorico Teodoro Terence Terencio Terrance Terrel Terrell Terrence Terri Terrill Terry Thacher Thad Thaddeus Thaddius Thaddus Thadeus Thain Thaine Thane Tharen Thatch Thatcher Thaxter Thayne Thebault Thedric Thedrick Theo Theobald Theodor Theodore Theodoric Theophyllus Thibaud Thibaut Thom Thomas Thor Thorn Thorndike Thornie Thornton Thorny Thorpe Thorstein Thorsten Thorvald Thurstan Thurston Tibold Tiebold Tiebout Tiler Tim Timmie Timmy Timothee Timotheus Timothy Tirrell Tito Titos Titus Tobe Tobiah Tobias Tobie Tobin Tobit Toby Tod Todd Toddie Toddy Tom Tomas Tome Tomkin Tomlin Tommie Tommy Tonnie Tony Tore Torey Torin Torr Torrance Torre Torrence Torrey Torrin Torry Town Towney Townie Townsend Towny Trace Tracey Tracie Tracy Traver Travers Travis Tray Tre Tremain Tremaine Tremayne Trent Trenton Trev Trevar Trever Trevor Trey Trip Tristan Troy Truman Tuck Tucker Tuckie Tucky Tudor Tull Tulley Tully Turner Ty Tybalt Tye Tyler Tymon Tymothy Tynan Tyrone Tyrus Tyson Udale Udall Udell Ugo Ulberto Uli Ulick Ulises Ulric Ulrich Ulrick Ulysses Umberto Upton Urbain Urban Urbano Urbanus Uri Uriah Uriel Urson Vachel Vaclav Vail Val Valdemar Vale Valentin Valentine Van Vance Vasili Vasilis Vasily Vassili Vassily Vaughan Vaughn Venkat Verge Vergil Vern Verne Vernen Verney Vernon Vernor Vic Vick Victor Vijay Vilhelm Vin Vince Vincent Vincents Vinnie Vinny Vinod Virge Virgie Virgil Virgilio Vite Vito Vlad Vladamir Vladimir Voltaire Von Wade Wadsworth Wain Waine Wainwright Wait Waite Waiter Wake Wakefield Wald Waldemar Walden Waldo Waldon Waleed Walker Wallace Wallache Wallas Wallie Wallis Wally Walsh Walt Walter Walther Walton Wang Ward Warde Warden Ware Waring Warner Warren Wash Washington Wat Waverley Waverly Way Waylan Wayland Waylen Waylin Waylon Wayne Web Webb Weber Webster Weidar Weider Welbie Welby Welch Wells Welsh Wendall Wendel Wendell Werner Wes Wesley Weslie West Westbrook Westbrooke Westleigh Westley Weston Weylin Wheeler Whit Whitaker Whitby Whitman Whitney Whittaker Wiatt Wilber Wilbert Wilbur Wilburn Wilburt Wilden Wildon Wilek Wiley Wilfred Wilfrid Wilhelm Will Willard Willdon Willem Willey Willi William Willie Willis Willmott Willy Wilmar Wilmer Wilson Wilt Wilton Win Windham Winfield Winford Winfred Winifield Winn Winnie Winny Winslow Winston Winthrop Winton Wit Witold Wittie Witty Wojciech Wolf Wolfgang Wolfie Wolfram Wolfy Woochang Wood Woodie Woodman Woodrow Woody Worden Worth Worthington Worthy Wright Wyatan Wyatt Wye Wylie Wyn Wyndham Wynn Wynton Xavier Xenos Xerxes Xever Ximenes Ximenez Xymenes Yaakov Yacov Yale Yanaton Yance Yancey Yancy Yank Yankee Yard Yardley Yehudi Yigal Yule Yuri Yves Zach Zacharia Zachariah Zacharias Zacharie Zachary Zacherie Zachery Zack Zackariah Zak Zalman Zane Zared Zary Zeb Zebadiah Zebedee Zebulen Zebulon Zechariah Zed Zedekiah Zeke Zelig Zerk Zeus Zippy Zollie Zolly Zorro Rahul Shumeet Vibhu\""
      ]
     },
     "execution_count": 10,
     "metadata": {
      "tags": []
     },
     "output_type": "execute_result"
    }
   ],
   "source": [
    "''.join(names)"
   ]
  },
  {
   "cell_type": "code",
   "execution_count": 11,
   "metadata": {
    "ExecuteTime": {
     "end_time": "2018-08-13T20:26:42.864592Z",
     "start_time": "2018-08-13T20:26:42.858725Z"
    },
    "colab": {
     "base_uri": "https://localhost:8080/",
     "height": 34
    },
    "id": "rEfqv5RnhzbQ",
    "outputId": "942ffdd8-3a17-4eae-a2bc-80e0fcf2b175"
   },
   "outputs": [
    {
     "name": "stdout",
     "output_type": "stream",
     "text": [
      "n_tokens: 55\n"
     ]
    }
   ],
   "source": [
    "tokens = set(''.join(names)) ### YOUR CODE HERE: ¡todos los caracteres únicos van aquí, relleno incluido!\n",
    "\n",
    "tokens = list(tokens)\n",
    "n_tokens = len(tokens)\n",
    "print ('n_tokens:', n_tokens)\n",
    "\n",
    "assert 50 < n_tokens < 60"
   ]
  },
  {
   "cell_type": "code",
   "execution_count": 12,
   "metadata": {
    "colab": {
     "base_uri": "https://localhost:8080/",
     "height": 952
    },
    "id": "30mlyl0ChzbT",
    "outputId": "f19e2dac-c1f1-468c-b0ba-f02c8a0f5f5c"
   },
   "outputs": [
    {
     "data": {
      "text/plain": [
       "['l',\n",
       " 't',\n",
       " 'P',\n",
       " 's',\n",
       " 'G',\n",
       " 'N',\n",
       " 'q',\n",
       " 'E',\n",
       " 'c',\n",
       " 'm',\n",
       " 'X',\n",
       " 'V',\n",
       " 'z',\n",
       " \"'\",\n",
       " 'T',\n",
       " 'C',\n",
       " 'K',\n",
       " 'x',\n",
       " 'i',\n",
       " 'M',\n",
       " 'u',\n",
       " 'w',\n",
       " 'R',\n",
       " 'b',\n",
       " 'O',\n",
       " 'W',\n",
       " 'Y',\n",
       " 'I',\n",
       " 'y',\n",
       " ' ',\n",
       " 'r',\n",
       " 'j',\n",
       " 'D',\n",
       " 'B',\n",
       " 'v',\n",
       " 'S',\n",
       " 'd',\n",
       " 'A',\n",
       " 'e',\n",
       " 'a',\n",
       " 'n',\n",
       " '-',\n",
       " 'k',\n",
       " 'F',\n",
       " 'g',\n",
       " 'p',\n",
       " 'J',\n",
       " 'o',\n",
       " 'H',\n",
       " 'U',\n",
       " 'f',\n",
       " 'Z',\n",
       " 'h',\n",
       " 'L',\n",
       " 'Q']"
      ]
     },
     "execution_count": 12,
     "metadata": {
      "tags": []
     },
     "output_type": "execute_result"
    }
   ],
   "source": [
    "tokens"
   ]
  },
  {
   "cell_type": "markdown",
   "metadata": {
    "id": "PxbVDAnYhzbX"
   },
   "source": [
    "### **De simbolos a identificadores**\n",
    "\n",
    "La manipulación de cadenas de Tensorflow es un poco complicada, así que lo solucionaremos.\n",
    "Alimentaremos nuestra red neuronal recurrente con identificadores de caracteres de nuestro diccionario.\n",
    "\n",
    "Para crear dicho diccionario, asignemos `token_to_id`"
   ]
  },
  {
   "cell_type": "code",
   "execution_count": 13,
   "metadata": {
    "colab": {
     "base_uri": "https://localhost:8080/",
     "height": 35
    },
    "id": "_JyK-0m9hzbY",
    "outputId": "31c345ab-bd56-4485-933a-42ae4e83fa2d"
   },
   "outputs": [
    {
     "data": {
      "application/vnd.google.colaboratory.intrinsic+json": {
       "type": "string"
      },
      "text/plain": [
       "\"ltPsGNqEcmXVz'TCKxiMuwRbOWYIy rjDBvSdAean-kFgpJoHUfZhLQ\""
      ]
     },
     "execution_count": 13,
     "metadata": {
      "tags": []
     },
     "output_type": "execute_result"
    }
   ],
   "source": [
    "simbolos = ''.join(tokens)\n",
    "simbolos"
   ]
  },
  {
   "cell_type": "code",
   "execution_count": 14,
   "metadata": {
    "id": "9ruC-Hirhzbc"
   },
   "outputs": [],
   "source": [
    "indices =[]\n",
    "for i in range(len(simbolos)):\n",
    "    indices.append(i)"
   ]
  },
  {
   "cell_type": "code",
   "execution_count": 15,
   "metadata": {
    "ExecuteTime": {
     "end_time": "2018-08-13T20:26:42.870330Z",
     "start_time": "2018-08-13T20:26:42.866135Z"
    },
    "id": "l8WC8rpEhzbf"
   },
   "outputs": [],
   "source": [
    "token_to_id =dict(zip(simbolos,indices)) ### YOUR CODE HERE: crear un diccionario de {símbolo -> su índice en tokens}\n",
    "\n",
    "assert len(tokens) == len(token_to_id), \"dictionaries must have same size\""
   ]
  },
  {
   "cell_type": "code",
   "execution_count": 16,
   "metadata": {
    "colab": {
     "base_uri": "https://localhost:8080/",
     "height": 952
    },
    "id": "sT5r83puhzbi",
    "outputId": "3da3525b-863e-443f-f981-56ac60e808b2"
   },
   "outputs": [
    {
     "data": {
      "text/plain": [
       "{' ': 29,\n",
       " \"'\": 13,\n",
       " '-': 41,\n",
       " 'A': 37,\n",
       " 'B': 33,\n",
       " 'C': 15,\n",
       " 'D': 32,\n",
       " 'E': 7,\n",
       " 'F': 43,\n",
       " 'G': 4,\n",
       " 'H': 48,\n",
       " 'I': 27,\n",
       " 'J': 46,\n",
       " 'K': 16,\n",
       " 'L': 53,\n",
       " 'M': 19,\n",
       " 'N': 5,\n",
       " 'O': 24,\n",
       " 'P': 2,\n",
       " 'Q': 54,\n",
       " 'R': 22,\n",
       " 'S': 35,\n",
       " 'T': 14,\n",
       " 'U': 49,\n",
       " 'V': 11,\n",
       " 'W': 25,\n",
       " 'X': 10,\n",
       " 'Y': 26,\n",
       " 'Z': 51,\n",
       " 'a': 39,\n",
       " 'b': 23,\n",
       " 'c': 8,\n",
       " 'd': 36,\n",
       " 'e': 38,\n",
       " 'f': 50,\n",
       " 'g': 44,\n",
       " 'h': 52,\n",
       " 'i': 18,\n",
       " 'j': 31,\n",
       " 'k': 42,\n",
       " 'l': 0,\n",
       " 'm': 9,\n",
       " 'n': 40,\n",
       " 'o': 47,\n",
       " 'p': 45,\n",
       " 'q': 6,\n",
       " 'r': 30,\n",
       " 's': 3,\n",
       " 't': 1,\n",
       " 'u': 20,\n",
       " 'v': 34,\n",
       " 'w': 21,\n",
       " 'x': 17,\n",
       " 'y': 28,\n",
       " 'z': 12}"
      ]
     },
     "execution_count": 16,
     "metadata": {
      "tags": []
     },
     "output_type": "execute_result"
    }
   ],
   "source": [
    "token_to_id"
   ]
  },
  {
   "cell_type": "code",
   "execution_count": 17,
   "metadata": {
    "ExecuteTime": {
     "end_time": "2018-08-13T20:26:42.875943Z",
     "start_time": "2018-08-13T20:26:42.871834Z"
    },
    "id": "YU46_GLXhzbl"
   },
   "outputs": [],
   "source": [
    "def to_matrix(names, max_len=None, pad=0, dtype=np.int32):\n",
    "    \"\"\"\"Convierte una lista de nombres en una matriz rellena rnn-digerible\"\"\"\n",
    "    \n",
    "    max_len = max_len or max(map(len, names)) # maximo numero de caracteres en un nombre:16\n",
    "    names_ix = np.zeros([len(names), max_len], dtype) + pad # arreglo de tamaño (7944, 16) con puros 0\n",
    "\n",
    "    for i in range(len(names)):\n",
    "        name_ix = list(map(token_to_id.get, names[i])) # recibe como parametro names[i] y calcula \n",
    "        names_ix[i, :len(name_ix)] = name_ix # asignamos los valores de name_ix al vector de zeros y\n",
    "        # en caso la palabra tenga una longitud menor  a16 se llenara con 0\n",
    "    return names_ix"
   ]
  },
  {
   "cell_type": "code",
   "execution_count": 18,
   "metadata": {
    "colab": {
     "base_uri": "https://localhost:8080/",
     "height": 51
    },
    "id": "M2YhAnHMhzbp",
    "outputId": "94bfe541-eb3d-4016-ce91-eb4721e87ceb"
   },
   "outputs": [
    {
     "name": "stdout",
     "output_type": "stream",
     "text": [
      " Abra\n",
      "[29, 37, 23, 30, 39]\n"
     ]
    }
   ],
   "source": [
    "# Ejemplo: Pasamos las palabras a un lenguaje de máquina\n",
    "print(names[10])\n",
    "list_B = list(map(token_to_id.get, names[10]))\n",
    "print(list_B)"
   ]
  },
  {
   "cell_type": "code",
   "execution_count": 19,
   "metadata": {
    "colab": {
     "base_uri": "https://localhost:8080/",
     "height": 187
    },
    "id": "pUXEFN9xhzbt",
    "outputId": "4609d81f-18b1-4b44-c12e-97fea7b3feb3"
   },
   "outputs": [
    {
     "name": "stdout",
     "output_type": "stream",
     "text": [
      "7944\n",
      "16\n",
      "[[0 0 0 ... 0 0 0]\n",
      " [0 0 0 ... 0 0 0]\n",
      " [0 0 0 ... 0 0 0]\n",
      " ...\n",
      " [0 0 0 ... 0 0 0]\n",
      " [0 0 0 ... 0 0 0]\n",
      " [0 0 0 ... 0 0 0]]\n",
      "(7944, 16)\n"
     ]
    }
   ],
   "source": [
    "print(len(names))\n",
    "print(max(map(len,names)))\n",
    "print(np.zeros([len(names),max(map(len,names))],np.int32))\n",
    "print(np.zeros([len(names),max(map(len,names))],np.int32).shape)"
   ]
  },
  {
   "cell_type": "code",
   "execution_count": 21,
   "metadata": {
    "ExecuteTime": {
     "end_time": "2018-08-13T20:26:42.883107Z",
     "start_time": "2018-08-13T20:26:42.877186Z"
    },
    "colab": {
     "base_uri": "https://localhost:8080/",
     "height": 221
    },
    "id": "ACUKhngYhzbw",
    "outputId": "27dbae35-2915-4031-86c5-579341f05bb6"
   },
   "outputs": [
    {
     "name": "stdout",
     "output_type": "stream",
     "text": [
      " Abagael\n",
      " Glory\n",
      " Prissie\n",
      " Giovanne\n",
      "[[29 37 23 39 44 39 38  0  0]\n",
      " [29  4  0 47 30 28  0  0  0]\n",
      " [29  2 30 18  3  3 18 38  0]\n",
      " [29  4 18 47 34 39 40 40 38]]\n",
      "=======================================\n",
      "[' Abbe', ' Abbey']\n",
      "[[29 37 23 23 38  0]\n",
      " [29 37 23 23 38 28]]\n"
     ]
    }
   ],
   "source": [
    "# Ejemplo:  4 nombres aleatorios a matrices rellenas (para que podamos agruparlos fácilmente)\n",
    "print('\\n'.join(names[::2000]))\n",
    "print(to_matrix(names[::2000]))\n",
    "print(\"=======================================\")\n",
    "print(names[2:4])\n",
    "print(to_matrix(names[2:4]))"
   ]
  },
  {
   "cell_type": "markdown",
   "metadata": {
    "id": "_epVBRf0hzbz"
   },
   "source": [
    "# **Definición de una red neuronal recurrente**\n",
    "\n",
    "Podemos reescribir la red neuronal recurrente como una aplicación consecutiva de capa densa a la entrada $x_t$ y estado anterior de rnn $h_t$. Esto es exactamente lo que haremos ahora.\n",
    "\n",
    "<img src=\"./imagenes/rnn.png\" width=600>\n",
    "\n",
    "Dado que estamos entrenando un modelo de lenguaje, también debería haber:\n",
    "* Una capa de incrustación que convierte la identificación del carácter $x_t$ en un vector.\n",
    "* Una capa de salida que predice las probabilidades del siguiente fonema basado en $h_t+1$"
   ]
  },
  {
   "cell_type": "code",
   "execution_count": 22,
   "metadata": {
    "ExecuteTime": {
     "end_time": "2018-08-13T20:26:44.039419Z",
     "start_time": "2018-08-13T20:26:42.884581Z"
    },
    "colab": {
     "base_uri": "https://localhost:8080/",
     "height": 207
    },
    "id": "jz2XxCqchzbz",
    "outputId": "e75f4bc8-5e68-4218-cfd3-4e36ac6083d8"
   },
   "outputs": [
    {
     "name": "stdout",
     "output_type": "stream",
     "text": [
      "WARNING:tensorflow:From /content/drive/.shortcut-targets-by-id/1srhtodlOj1P7Ue0nz6s6NoXWreGflaaU/Programacion/Python/Machine Learning avanzado/1.Introduccion al Deep Learning/Semana5/keras_utils.py:68: The name tf.get_default_session is deprecated. Please use tf.compat.v1.get_default_session instead.\n",
      "\n",
      "WARNING:tensorflow:From /usr/local/lib/python3.6/dist-packages/keras/backend/tensorflow_backend.py:79: The name tf.reset_default_graph is deprecated. Please use tf.compat.v1.reset_default_graph instead.\n",
      "\n",
      "WARNING:tensorflow:From /usr/local/lib/python3.6/dist-packages/keras/backend/tensorflow_backend.py:82: The name tf.placeholder is deprecated. Please use tf.compat.v1.placeholder instead.\n",
      "\n",
      "WARNING:tensorflow:From /usr/local/lib/python3.6/dist-packages/keras/backend/tensorflow_backend.py:84: The name tf.get_default_graph is deprecated. Please use tf.compat.v1.get_default_graph instead.\n",
      "\n",
      "WARNING:tensorflow:From /content/drive/.shortcut-targets-by-id/1srhtodlOj1P7Ue0nz6s6NoXWreGflaaU/Programacion/Python/Machine Learning avanzado/1.Introduccion al Deep Learning/Semana5/keras_utils.py:75: The name tf.ConfigProto is deprecated. Please use tf.compat.v1.ConfigProto instead.\n",
      "\n"
     ]
    }
   ],
   "source": [
    "# remember to reset your session if you change your graph!\n",
    "s = keras_utils.reset_tf_session()"
   ]
  },
  {
   "cell_type": "code",
   "execution_count": 24,
   "metadata": {
    "ExecuteTime": {
     "end_time": "2018-08-13T20:26:44.044903Z",
     "start_time": "2018-08-13T20:26:44.041084Z"
    },
    "id": "Ntuymt56hzb2"
   },
   "outputs": [],
   "source": [
    "import keras\n",
    "from keras.layers import concatenate, Dense, Embedding\n",
    "\n",
    "rnn_num_units = 64  #numero de neuronas en la capa oculta\n",
    "embedding_size = 16  # tamaño de las palabras\n",
    "\n",
    "# Creamos capa para la red recurrente\n",
    "# Nota: creamos capas pero no las \"aplicamos\" todavía (esta es una \"API funcional\" de Keras)\n",
    "# Nota: establezca la activación correcta (de keras.activations) a Capas densas.\n",
    "\n",
    "# Capa de incrustación que convierte los identificadores de caracteres en incrustaciones\n",
    "embed_x = Embedding(n_tokens, embedding_size)\n",
    "\n",
    "# Capa densa que mapea la entrada y el estado anterior al nuevo estado oculto, [x_t,h_t]->h_t+1\n",
    "get_h_next =Dense(rnn_num_units, activation = 'relu') ### YOUR CODE HERE\n",
    "\n",
    "# Capa densa que asigna el estado oculto actual a las probabilidades de los personajes [h_t+1]->P(x_t+1|h_t+1)\n",
    "get_probas = Dense(units = n_tokens, kernel_initializer = \"uniform\",  activation = \"softmax\") ### YOUR CODE HERE "
   ]
  },
  {
   "cell_type": "markdown",
   "metadata": {
    "id": "ZQD0TK6Xhzb5"
   },
   "source": [
    "Generaremos nombres carácter a carácter empezando por `start_token`:\n",
    "\n",
    "<img src=\"./imagenes/char-nn.png\" width=600>"
   ]
  },
  {
   "cell_type": "code",
   "execution_count": 26,
   "metadata": {
    "ExecuteTime": {
     "end_time": "2018-08-13T20:26:44.053212Z",
     "start_time": "2018-08-13T20:26:44.048389Z"
    },
    "id": "bPvvQHWLhzb5"
   },
   "outputs": [],
   "source": [
    "def rnn_one_step(x_t, h_t):\n",
    "    \"\"\"\n",
    "   Paso recurrente de la red neuronal que produce\n",
    "     probabilidades para el siguiente token x_t + 1 y el siguiente estado h_t + 1\n",
    "     dada la entrada actual x_t y el estado anterior h_t.\n",
    "     Llamaremos a este método repetidamente para producir la secuencia completa.\n",
    "    \n",
    "     Se supone que debe \"aplicar\" las capas superiores para producir nuevos tensores.\n",
    "     Siga las instrucciones en línea para completar la función.\n",
    "    \"\"\"\n",
    "    # convertimos el id del caracter en embedding\n",
    "    x_t_emb = embed_x(tf.reshape(x_t, [-1, 1]))[:, 0]\n",
    "    \n",
    "    # concatenar la incrustación x_t y el estado anterior de h_t\n",
    "    x_and_h =tf.concat([x_t_emb, h_t], 1) ### YOUR CODE HERE\n",
    "    \n",
    "    # calcular el siguiente estado dado x_and_h\n",
    "    h_next = get_h_next(x_and_h) ### YOUR CODE HERE\n",
    "    \n",
    "    # obtener probabilidades para el modelo de lenguaje P (x_next | h_next)\n",
    "    output_probas = get_probas(h_next) ### YOUR CODE HERE\n",
    "    \n",
    "    return output_probas, h_next"
   ]
  },
  {
   "cell_type": "markdown",
   "metadata": {
    "id": "iND9j8xGhzb9"
   },
   "source": [
    "# RNN: loop\n",
    "\n",
    "Una vez que `rnn_one_step` esté listo, aplicémoslo en un bucle sobre los caracteres del nombre para obtener predicciones.\n",
    "\n",
    "Supongamos que todos los nombres tienen una longitud máxima de 16 por ahora, por lo que simplemente podemos iterar sobre ellos en un bucle for.\n"
   ]
  },
  {
   "cell_type": "code",
   "execution_count": null,
   "metadata": {
    "ExecuteTime": {
     "end_time": "2018-08-13T20:26:44.342948Z",
     "start_time": "2018-08-13T20:26:44.056136Z"
    },
    "id": "3mWx9ZA8hzb9"
   },
   "outputs": [],
   "source": [
    "input_sequence = tf.placeholder(tf.int32, (None, MAX_LENGTH))  # lote de ids de token\n",
    "batch_size = tf.shape(input_sequence)[0]\n",
    "\n",
    "predicted_probas = []\n",
    "h_prev = tf.zeros([batch_size, rnn_num_units])  # iniciar capas ocultas\n",
    "\n",
    "for t in range(MAX_LENGTH):\n",
    "    x_t = input_sequence[:, t]  # columna t\n",
    "    probas_next, h_next = rnn_one_step(x_t, h_prev)\n",
    "    \n",
    "    h_prev = h_next\n",
    "    predicted_probas.append(probas_next)\n",
    "    \n",
    "# combinar predicted_probas en [batch, time, n_tokens] tensor\n",
    "predicted_probas = tf.transpose(tf.stack(predicted_probas), [1, 0, 2])\n",
    "print(predicted_probas)\n",
    "\n",
    "# No se necesita la predicción del último token\n",
    "predicted_probas = predicted_probas[:, :-1, :]\n",
    "print(predicted_probas)"
   ]
  },
  {
   "cell_type": "markdown",
   "metadata": {
    "id": "FLbVknOShzcA"
   },
   "source": [
    "# RNN: perdidas y gradientes\n",
    "\n",
    "Recopilemos una matriz de predicciones para $P(x_{next}|h)$ y las correspondientes respuestas correctas.\n",
    "\n",
    "\n",
    "Aplanaremos nuestras matrices para dar forma [None, n_tokens] de modo de hacerlo más fácil\n",
    "\n",
    "Luego, nuestra red puede entrenarse minimizando la entropía cruzada entre las probabilidades predichas y esas respuestas.\n"
   ]
  },
  {
   "cell_type": "code",
   "execution_count": null,
   "metadata": {
    "ExecuteTime": {
     "end_time": "2018-08-13T20:26:44.354310Z",
     "start_time": "2018-08-13T20:26:44.344648Z"
    },
    "colab": {
     "base_uri": "https://localhost:8080/",
     "height": 68
    },
    "id": "_47asCtehzcA",
    "outputId": "612c0347-a9bd-4216-8f62-7b5ac9be9be1"
   },
   "outputs": [
    {
     "name": "stdout",
     "output_type": "stream",
     "text": [
      "Tensor(\"Reshape_31:0\", shape=(?, 55), dtype=float32)\n",
      "Tensor(\"one_hot_7:0\", shape=(?, 55), dtype=float32)\n"
     ]
    },
    {
     "data": {
      "text/plain": [
       "<tf.Operation 'PrintV2_8' type=PrintV2>"
      ]
     },
     "execution_count": 71,
     "metadata": {
      "tags": []
     },
     "output_type": "execute_result"
    }
   ],
   "source": [
    "# Aplanamos las predicciones para [batch*time, n_tokens]\n",
    "predictions_matrix = tf.reshape(predicted_probas, [-1, n_tokens])\n",
    "print(predictions_matrix)\n",
    "# aplanar las respuestas (tokens siguientes) y codificarlas en one-hot\n",
    "answers_matrix = tf.one_hot(tf.reshape(input_sequence[:, 1:], [-1]), n_tokens)\n",
    "print(answers_matrix)\n",
    "tf.print(predictions_matrix)\n"
   ]
  },
  {
   "cell_type": "markdown",
   "metadata": {
    "id": "AZPWxPB1hzcD"
   },
   "source": [
    "Por lo general, es una buena idea ignorar los gradientes de pérdida para las predicciones de token de relleno.\n",
    "\n",
    "Debido a que no nos importa una predicción adicional después de que se predice pad_token por primera vez, no tiene sentido castigar nuestra red después de que se predice pad_token.\n",
    "\n",
    "Por simplicidad, puede ignorar este comentario, depende de usted."
   ]
  },
  {
   "cell_type": "code",
   "execution_count": null,
   "metadata": {
    "ExecuteTime": {
     "end_time": "2018-08-13T20:26:45.076642Z",
     "start_time": "2018-08-13T20:26:44.355594Z"
    },
    "id": "UXzZzBv8hzcE"
   },
   "outputs": [],
   "source": [
    "# Defina la pérdida como entropía cruzada categórica (por ejemplo, de keras.losses).\n",
    "# ¡Tenga en cuenta que las predicciones son probabilidades y NO logits!\n",
    "# ¡Recuerde aplicar tf.reduce_mean para obtener una pérdida escalar!\n",
    "from keras.objectives import categorical_crossentropy\n",
    "loss = tf.reduce_mean(categorical_crossentropy(answers_matrix,predictions_matrix)) ### YOUR CODE HERE\n",
    "\n",
    "optimize = tf.train.AdamOptimizer().minimize(loss)"
   ]
  },
  {
   "cell_type": "markdown",
   "metadata": {
    "id": "TP1Yw452hzcH"
   },
   "source": [
    "# RNN: entrenamiento"
   ]
  },
  {
   "cell_type": "code",
   "execution_count": null,
   "metadata": {
    "ExecuteTime": {
     "end_time": "2018-08-13T20:26:55.322187Z",
     "start_time": "2018-08-13T20:26:45.078296Z"
    },
    "colab": {
     "base_uri": "https://localhost:8080/",
     "height": 265
    },
    "id": "eJ02FAnlhzcI",
    "outputId": "a9cc971a-deac-4345-926f-2cd6632918fd"
   },
   "outputs": [
    {
     "data": {
      "image/png": "[encoded data removed]",
      "text/plain": [
       "<Figure size 432x288 with 1 Axes>"
      ]
     },
     "metadata": {
      "needs_background": "light",
      "tags": []
     },
     "output_type": "display_data"
    }
   ],
   "source": [
    "from IPython.display import clear_output\n",
    "from random import sample\n",
    "\n",
    "s.run(tf.global_variables_initializer())\n",
    "\n",
    "batch_size = 32\n",
    "history = []\n",
    "\n",
    "for i in range(1000):\n",
    "    batch = to_matrix(sample(names, batch_size), max_len=MAX_LENGTH)\n",
    "    loss_i, _ = s.run([loss, optimize], {input_sequence: batch})\n",
    "    \n",
    "    history.append(loss_i)\n",
    "    \n",
    "    if (i + 1) % 100 == 0:\n",
    "        clear_output(True)\n",
    "        plt.plot(history, label='loss')\n",
    "        plt.legend()\n",
    "        plt.show()\n",
    "\n",
    "assert np.mean(history[:10]) > np.mean(history[-10:]), \"RNN didn't converge\""
   ]
  },
  {
   "cell_type": "markdown",
   "metadata": {
    "id": "QlCPwKiZhzcN"
   },
   "source": [
    "# RNN: muestreo\n",
    "Una vez que hayamos entrenado un poco nuestra red, empecemos a generar cosas. Todo lo que necesitamos es la función `rnn_one_step` que ha escrito anteriormente."
   ]
  },
  {
   "cell_type": "code",
   "execution_count": null,
   "metadata": {
    "ExecuteTime": {
     "end_time": "2018-08-13T20:26:55.341196Z",
     "start_time": "2018-08-13T20:26:55.323787Z"
    },
    "id": "QcDeqLVDhzcN"
   },
   "outputs": [],
   "source": [
    "x_t = tf.placeholder(tf.int32, (1,))\n",
    "h_t = tf.Variable(np.zeros([1, rnn_num_units], np.float32))  # actualizaremos la memoria en esta variable\n",
    "\n",
    "# Para el muestreo, necesitamos definir los tensores `rnn_one_step` solo una vez en nuestro gráfico.\n",
    "# Reutilizamos todos los parámetros gracias al uso funcional de la API.\n",
    "# Luego, podemos alimentar valores de tensor apropiados usando feed_dict en un ciclo.\n",
    "# Tenga en cuenta lo diferente que es de la etapa de entrenamiento, donde tuvimos que desenrollar toda la secuencia para retroceder.\n",
    "next_probs, next_h = rnn_one_step(x_t, h_t)"
   ]
  },
  {
   "cell_type": "code",
   "execution_count": null,
   "metadata": {
    "ExecuteTime": {
     "end_time": "2018-08-13T20:26:55.346422Z",
     "start_time": "2018-08-13T20:26:55.342659Z"
    },
    "id": "Sjh-uzHqhzcQ"
   },
   "outputs": [],
   "source": [
    "def generate_sample(seed_phrase=start_token, max_length=MAX_LENGTH):\n",
    "    '''\n",
    "   Esta función genera texto dado una \"frase_semilla\" como semilla.\n",
    "     ¡Recuerde incluir start_token en la frase inicial!\n",
    "     El parámetro `max_length` se usa para establecer el número de caracteres en la predicción.\n",
    "    '''\n",
    "    x_sequence = [token_to_id[token] for token in seed_phrase]\n",
    "    s.run(tf.assign(h_t, h_t.initial_value))\n",
    "    \n",
    "    # Alimentar la frase semilla, si la hay\n",
    "    for ix in x_sequence[:-1]:\n",
    "         s.run(tf.assign(h_t, next_h), {x_t: [ix]})\n",
    "    \n",
    "    # Generar\n",
    "    for _ in range(max_length-len(seed_phrase)):\n",
    "        x_probs,_ = s.run([next_probs, tf.assign(h_t, next_h)], {x_t: [x_sequence[-1]]})\n",
    "        x_sequence.append(np.random.choice(n_tokens, p=x_probs[0]))\n",
    "        \n",
    "    return ''.join([tokens[ix] for ix in x_sequence if tokens[ix] != pad_token])"
   ]
  },
  {
   "cell_type": "code",
   "execution_count": null,
   "metadata": {
    "ExecuteTime": {
     "end_time": "2018-08-13T20:26:58.458115Z",
     "start_time": "2018-08-13T20:26:55.347900Z"
    },
    "colab": {
     "base_uri": "https://localhost:8080/",
     "height": 187
    },
    "id": "vtgCOH-5hzcV",
    "outputId": "379be317-2651-4079-e4c2-389f34ff7a68"
   },
   "outputs": [
    {
     "name": "stdout",
     "output_type": "stream",
     "text": [
      " HotrdelteFFFFFF\n",
      " AltaFFFFFFFFFFF\n",
      " WondatFFFFFFFFF\n",
      " RoFFFFFFFFFFFFF\n",
      " CaosveyteFFFFFF\n",
      " ShiatheFFFFFFFF\n",
      " MazyFFFFFFFFFFF\n",
      " KemulnaFFFFFFFF\n",
      " CorrililFFFFFFF\n",
      " NiolFFFFFFFFFFF\n"
     ]
    }
   ],
   "source": [
    "# without prefix\n",
    "for _ in range(10):\n",
    "    print(generate_sample())"
   ]
  },
  {
   "cell_type": "code",
   "execution_count": null,
   "metadata": {
    "ExecuteTime": {
     "end_time": "2018-08-13T20:27:01.986726Z",
     "start_time": "2018-08-13T20:26:58.459810Z"
    },
    "colab": {
     "base_uri": "https://localhost:8080/",
     "height": 187
    },
    "id": "dmR1W3Yvhzce",
    "outputId": "ed6acbae-3a6e-4898-f0a2-5126331d0285"
   },
   "outputs": [
    {
     "name": "stdout",
     "output_type": "stream",
     "text": [
      " TrumpiFFFFFFFFF\n",
      " TrumpaFFFFFFFFF\n",
      " TrumpilaFFFFFFF\n",
      " TrumpiedelFFFFF\n",
      " TrumpdsanFFFFFF\n",
      " TrumpeceFFFFFFF\n",
      " TrumpeeFFFFFFFF\n",
      " TrumpFFFFFFFFFF\n",
      " TrumpelaFFFFFFF\n",
      " TrumpyFFFFFFFFF\n"
     ]
    }
   ],
   "source": [
    "# with prefix conditioning\n",
    "for _ in range(10):\n",
    "    print(generate_sample(' Trump'))"
   ]
  },
  {
   "cell_type": "markdown",
   "metadata": {
    "id": "1Uy4ne1zhzch"
   },
   "source": [
    "# Submit to Coursera"
   ]
  },
  {
   "cell_type": "code",
   "execution_count": null,
   "metadata": {
    "ExecuteTime": {
     "end_time": "2018-08-13T20:40:02.004926Z",
     "start_time": "2018-08-13T20:40:02.000821Z"
    },
    "id": "gKkN1rdUhzch"
   },
   "outputs": [],
   "source": [
    "# token expires every 30 min\n",
    "COURSERA_TOKEN = \"eh4Q5btJCLrTzOLi\"\n",
    "COURSERA_EMAIL = \"rguerreroh@uni.pe\""
   ]
  },
  {
   "cell_type": "code",
   "execution_count": null,
   "metadata": {
    "ExecuteTime": {
     "end_time": "2018-08-13T20:40:18.923357Z",
     "start_time": "2018-08-13T20:40:03.549343Z"
    },
    "colab": {
     "base_uri": "https://localhost:8080/",
     "height": 68
    },
    "id": "fL9aWj26hzck",
    "outputId": "a744812a-696f-43a2-b469-4b7570fe72b2"
   },
   "outputs": [
    {
     "name": "stdout",
     "output_type": "stream",
     "text": [
      "*************************\n",
      "\n",
      "Submitted to Coursera platform. See results on assignment page!\n"
     ]
    }
   ],
   "source": [
    "from submit import submit_char_rnn\n",
    "samples = [generate_sample(' Al') for i in tqdm_utils.tqdm_notebook_failsafe(range(25))]\n",
    "submission = (history, samples)\n",
    "submit_char_rnn(submission, COURSERA_EMAIL, COURSERA_TOKEN)"
   ]
  },
  {
   "cell_type": "markdown",
   "metadata": {
    "id": "2H8eytgxhzco"
   },
   "source": [
    "# Pruebalo!\n",
    "\n",
    "__Disclaimer:__ Esta parte de la asignación es completamente opcional. No recibirá puntos de bonificación por ello. Sin embargo, es algo divertido de hacer. Comparta sus resultados en los foros del curso.\n",
    "Acaba de implementar un modelo de lenguaje recurrente al que se le puede asignar la tarea de generar cualquier tipo de secuencia, por lo que hay muchos datos en los que puede probarlo:\n",
    "\n",
    "* Novelas / poemas / canciones de tu autor favorito\n",
    "* Títulos de noticias / títulos de clickbait\n",
    "* Código fuente de Linux o Tensorflow\n",
    "* Moleculas en  [formas](https://en.wikipedia.org/wiki/Simplified_molecular-input_line-entry_system) formato\n",
    "* Melodía en formato de notas / acordes\n",
    "* IKEA títulos de catálogo\n",
    "* Nombres de Pokemon \n",
    "* Cartas de  Magic, the Gathering / Hearthstone\n",
    "\n",
    "Si estás dispuesto a intentarlo, esto es lo que quieres ver:\n",
    "* El formato de datos actual es una secuencia de líneas, por lo que una novela puede formatearse como una lista de oraciones. Alternativamente, puede cambiar el preprocesamiento de datos por completo.\n",
    "* Si bien algunos conjuntos de datos están disponibles, otros solo se pueden extraer de la web. Prueba con `Selenium` o` Scrapy` para eso.\n",
    "* Asegúrese de que MAX_LENGTH esté ajustado para conjuntos de datos más largos. También hay una sección adicional sobre RNN dinámicos en la parte inferior.\n",
    "* Las tareas más complejas requieren una arquitectura RNN más grande, pruebe con más neuronas o varias capas. También requeriría más iteraciones de entrenamiento.\n",
    "* Las dependencias a largo plazo en música, novelas o moléculas se manejan mejor con LSTM o GRU\n",
    "\n",
    "\n",
    "__Good hunting!__"
   ]
  },
  {
   "cell_type": "markdown",
   "metadata": {
    "collapsed": true,
    "id": "GSHRWRchhzcp"
   },
   "source": [
    "# Bonus level: dynamic RNNs\n",
    "\n",
    "Además de Keras, también hay una API amigable de TensorFlow para redes neuronales recurrentes. Se basa en la función de bucle simbólico.(aka [tf.scan](https://www.tensorflow.org/api_docs/python/tf/scan)).\n",
    "\n",
    "El bucle RNN que implementamos para el entrenamiento se puede reemplazar con una sola instrucción de TensorFlow: [tf.nn.dynamic_rnn](https://www.tensorflow.org/api_docs/python/tf/nn/dynamic_rnn).\n",
    "Esta interfaz permite una longitud de secuencia dinámica y viene con algunas arquitecturas implementadas previamente.\n",
    "\n",
    "Eche un vistazo a [tf.nn.rnn_cell.BasicRNNCell](https://www.tensorflow.org/api_docs/python/tf/contrib/rnn/BasicRNNCell)."
   ]
  },
  {
   "cell_type": "code",
   "execution_count": null,
   "metadata": {
    "ExecuteTime": {
     "end_time": "2018-08-13T20:27:12.975354Z",
     "start_time": "2018-08-13T20:27:12.737529Z"
    },
    "id": "PQ3pEsJihzcp"
   },
   "outputs": [],
   "source": [
    "class CustomRNN(tf.nn.rnn_cell.BasicRNNCell):\n",
    "    def call(self, input, state):\n",
    "        # from docs:\n",
    "        # Returns:\n",
    "        # Output: Un tensor 2-D con forma [batch_size, self.output_size].\n",
    "        # New state: O un solo tensor 2-D o una tupla de tensores que coinciden con la aridad y las formas del estado.\n",
    "        return rnn_one_step(input[:, 0], state)\n",
    "    \n",
    "    @property\n",
    "    def output_size(self):\n",
    "        return n_tokens\n",
    "    \n",
    "cell = CustomRNN(rnn_num_units)\n",
    "\n",
    "input_sequence = tf.placeholder(tf.int32, (None, None))\n",
    "    \n",
    "predicted_probas, last_state = tf.nn.dynamic_rnn(cell, input_sequence[:, :, None], dtype=tf.float32)\n",
    "\n",
    "print('LSTM outputs for each step [batch,time,n_tokens]:')\n",
    "print(predicted_probas.eval({input_sequence: to_matrix(names[:10], max_len=50)}).shape)"
   ]
  },
  {
   "cell_type": "markdown",
   "metadata": {
    "id": "6rsd-vfEhzcs"
   },
   "source": [
    "Tenga en cuenta que nunca usamos MAX_LENGTH en el código anterior: TF iterará sobre la cantidad de pasos de tiempo que le haya dado.\n",
    "\n",
    "También puede utilizar cualquier celda RNN previamente implementada:"
   ]
  },
  {
   "cell_type": "code",
   "execution_count": null,
   "metadata": {
    "ExecuteTime": {
     "end_time": "2018-08-13T20:27:12.981697Z",
     "start_time": "2018-08-13T20:27:12.977590Z"
    },
    "id": "SP1aPosuhzct"
   },
   "outputs": [],
   "source": [
    "for obj in dir(tf.nn.rnn_cell) + dir(tf.contrib.rnn):\n",
    "    if obj.endswith('Cell'):\n",
    "        print(obj, end=\"\\t\")"
   ]
  },
  {
   "cell_type": "code",
   "execution_count": null,
   "metadata": {
    "ExecuteTime": {
     "end_time": "2018-08-13T20:27:13.168207Z",
     "start_time": "2018-08-13T20:27:12.986884Z"
    },
    "id": "O0I6f5zQhzcw"
   },
   "outputs": [],
   "source": [
    "input_sequence = tf.placeholder(tf.int32, (None, None))\n",
    "\n",
    "inputs_embedded = embed_x(input_sequence)\n",
    "\n",
    "# ¡La celda estándar devuelve el estado oculto como salida!\n",
    "cell = tf.nn.rnn_cell.LSTMCell(rnn_num_units)\n",
    "\n",
    "state_sequence, last_state = tf.nn.dynamic_rnn(cell, inputs_embedded, dtype=tf.float32)\n",
    "\n",
    "s.run(tf.global_variables_initializer())\n",
    "\n",
    "print('LSTM hidden state for each step [batch,time,rnn_num_units]:')\n",
    "print(state_sequence.eval({input_sequence: to_matrix(names[:10], max_len=50)}).shape)"
   ]
  }
 ],
 "metadata": {
  "colab": {
   "collapsed_sections": [
    "6v4wSAeThzaz",
    "WKpF83LFhzbI"
   ],
   "name": "RNN-task.ipynb",
   "provenance": []
  },
  "kernelspec": {
   "display_name": "Python 3",
   "language": "python",
   "name": "python3"
  },
  "language_info": {
   "codemirror_mode": {
    "name": "ipython",
    "version": 3
   },
   "file_extension": ".py",
   "mimetype": "text/x-python",
   "name": "python",
   "nbconvert_exporter": "python",
   "pygments_lexer": "ipython3",
   "version": "3.7.9"
  }
 },
 "nbformat": 4,
 "nbformat_minor": 1
}
